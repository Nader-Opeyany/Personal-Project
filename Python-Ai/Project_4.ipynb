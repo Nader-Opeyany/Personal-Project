{
 "cells": [
  {
   "cell_type": "markdown",
   "metadata": {
    "id": "GxGA1SMjVOTm"
   },
   "source": [
    "## Project 4:  Solving N-Queens Problem using Genetic Algorithms\n",
    "\n",
    "#### CSC 180  Intelligent Systems\n",
    "\n",
    "#### Dr. Haiquan Chen, California State University, Sacramento\n"
   ]
  },
  {
   "cell_type": "code",
   "execution_count": 1262,
   "metadata": {
    "colab": {
     "base_uri": "https://localhost:8080/"
    },
    "id": "t0nqYmhN72Wm",
    "outputId": "7a50b71c-f5bc-472e-f66b-d1e0e3412404"
   },
   "outputs": [
    {
     "name": "stdout",
     "output_type": "stream",
     "text": [
      "Requirement already satisfied: deap in /usr/local/lib/python3.7/dist-packages (1.3.1)\n",
      "Requirement already satisfied: numpy in /usr/local/lib/python3.7/dist-packages (from deap) (1.21.6)\n"
     ]
    }
   ],
   "source": [
    "# Insert your name, your id, course title, assignment id, and due date here as comment \n",
    "# CSC 180 Assignment 4 \n",
    "# Due Date: 4/22/22\n",
    "# Name: Stetten Fessler ID: 302267979\n",
    "#Nader S Opeyany\n",
    "!pip install deap"
   ]
  },
  {
   "cell_type": "markdown",
   "metadata": {
    "id": "HibX8kusV5PD"
   },
   "source": [
    "\n",
    "## Part I: Position-index-based board representation"
   ]
  },
  {
   "cell_type": "code",
   "execution_count": 1263,
   "metadata": {
    "colab": {
     "base_uri": "https://localhost:8080/"
    },
    "id": "LcEVm7paVOTo",
    "outputId": "6b8ae5e1-a537-409d-a9d9-e15543341ec9"
   },
   "outputs": [
    {
     "name": "stderr",
     "output_type": "stream",
     "text": [
      "/usr/local/lib/python3.7/dist-packages/deap/creator.py:141: RuntimeWarning: A class named 'FitnessMin' has already been created and it will be overwritten. Consider deleting previous creation of that class or rename it.\n",
      "  RuntimeWarning)\n",
      "/usr/local/lib/python3.7/dist-packages/deap/creator.py:141: RuntimeWarning: A class named 'Individual' has already been created and it will be overwritten. Consider deleting previous creation of that class or rename it.\n",
      "  RuntimeWarning)\n"
     ]
    }
   ],
   "source": [
    "import random\n",
    "import numpy as np\n",
    "from deap import algorithms, base, creator, tools\n",
    "\n",
    "creator.create(\"FitnessMin\", base.Fitness, weights=(-1.0,)) # -1 for weights because MINIMIZATION problem\n",
    "creator.create(\"Individual\", list, fitness=creator.FitnessMin)"
   ]
  },
  {
   "cell_type": "code",
   "execution_count": 1264,
   "metadata": {
    "id": "AjYwh9eYVOTt"
   },
   "outputs": [],
   "source": [
    "def create_individual():\n",
    "    return random.sample(range(64), 8)"
   ]
  },
  {
   "cell_type": "code",
   "execution_count": 1265,
   "metadata": {
    "colab": {
     "base_uri": "https://localhost:8080/"
    },
    "id": "V3rgKtu_VOTv",
    "outputId": "8f9a8bbe-d2ea-45f5-eab1-6c6a4913b342"
   },
   "outputs": [
    {
     "name": "stdout",
     "output_type": "stream",
     "text": [
      "[31, 41, 27, 29, 40, 50, 48, 30]\n"
     ]
    }
   ],
   "source": [
    "print(create_individual())"
   ]
  },
  {
   "cell_type": "code",
   "execution_count": 1266,
   "metadata": {
    "id": "ekoiWdxDVOTy"
   },
   "outputs": [],
   "source": [
    "def show_grid(board):\n",
    "    \n",
    "    n = [0]*64\n",
    "    for i in board:\n",
    "        n[i] = 1\n",
    "    \n",
    "    \n",
    "    for i in range(8):\n",
    "        for j in range(64):\n",
    "            if j // 8 == i:\n",
    "                if n[j] == 1:\n",
    "                    print('X',end=\"|\")\n",
    "                else:\n",
    "                    print('-',end=\"|\")\n",
    "        print()\n",
    "        print(\"----------------\")"
   ]
  },
  {
   "cell_type": "code",
   "execution_count": 1267,
   "metadata": {
    "id": "N8XtgeUKVOT0"
   },
   "outputs": [],
   "source": [
    "toolbox = base.Toolbox()\n",
    "\n",
    "toolbox.register(\"individual\", tools.initIterate, creator.Individual, create_individual)\n",
    "\n",
    "toolbox.register(\"population\", tools.initRepeat, list, toolbox.individual)"
   ]
  },
  {
   "cell_type": "code",
   "execution_count": 1268,
   "metadata": {
    "colab": {
     "base_uri": "https://localhost:8080/"
    },
    "id": "YTk0VOT-VOT3",
    "outputId": "b05be476-f60a-4be3-b559-51ca901bcada"
   },
   "outputs": [
    {
     "name": "stdout",
     "output_type": "stream",
     "text": [
      "[60, 56, 29, 51, 58, 52, 38, 59]\n"
     ]
    }
   ],
   "source": [
    "pop = toolbox.population(n=5)\n",
    "\n",
    "print(pop[0])"
   ]
  },
  {
   "cell_type": "code",
   "execution_count": 1269,
   "metadata": {
    "colab": {
     "base_uri": "https://localhost:8080/"
    },
    "id": "letgI4JkVOT6",
    "outputId": "929d4178-022d-41e5-a509-1da2ed722234"
   },
   "outputs": [
    {
     "name": "stdout",
     "output_type": "stream",
     "text": [
      "-|-|-|-|-|-|-|-|\n",
      "----------------\n",
      "-|-|-|-|-|-|-|-|\n",
      "----------------\n",
      "-|-|-|-|-|-|-|-|\n",
      "----------------\n",
      "-|-|-|-|-|X|-|-|\n",
      "----------------\n",
      "-|-|-|-|-|-|X|-|\n",
      "----------------\n",
      "-|-|-|-|-|-|-|-|\n",
      "----------------\n",
      "-|-|-|X|X|-|-|-|\n",
      "----------------\n",
      "X|-|X|X|X|-|-|-|\n",
      "----------------\n"
     ]
    }
   ],
   "source": [
    "show_grid(pop[0])"
   ]
  },
  {
   "cell_type": "markdown",
   "metadata": {
    "id": "qzj4Y0L5VOT8"
   },
   "source": [
    "### 10 pts:  Write your code in the cell below to define the \"evaFitness\" function, which returns the fitness of any given board.  \n",
    "\n",
    "- Noticed that in this case, mutation may generate invalid board, e.g., the board with dupliciate positions.  Think about   [5, 32, 8, 8, 41, 3, 55, 49]\n",
    "\n",
    "- How to exclude those invalid boards from each generation? One way is to add some penalty to the fitness value of invalid boards.  In that case, any invalid board will have a very high fitness value (remember that our goal is to find the board with least fitness value).    To do that, let's write a function ***checkDuplicate()*** to calculate the number of queen pairs in the same position for any given board.   ***Give each duplicate a high penalty (i.e., multiply by 20, 50) and add the penalty to the fitness value.*** \n",
    "\n",
    "-  evaFitness() returns the total number of duplicate position pair (with penalty) plus the total number of distinct pairs of queens that attack each other.  "
   ]
  },
  {
   "cell_type": "code",
   "execution_count": 1270,
   "metadata": {
    "id": "ZTHRSMRMVOT8"
   },
   "outputs": [],
   "source": [
    "#fitness function\n",
    "def evaFitness(individual):\n",
    "  seen_rows = seen_cols = []\n",
    "  conflict = 0\n",
    "  \n",
    "  for pos in individual:\n",
    "    cur_col = pos // 8 \n",
    "    cur_row = pos % 8 \n",
    "\n",
    "    check_seen(cur_col, seen_cols, conflict)\n",
    "    check_seen(cur_row, seen_rows, conflict)\n",
    "\n",
    "  # check diagonals\n",
    "  for i in range(len(seen_cols)):\n",
    "    j = i + 1\n",
    "    while j < len(seen_cols):\n",
    "      if abs(seen_cols[i] - seen_cols[j]) == abs(seen_rows[i] - seen_rows[j]): # if col difference == row difference: diagonal conflict\n",
    "        conflict += 1\n",
    "      j += 1\n",
    "  return (checkDuplicate(individual) + conflict,)\n",
    "    \n",
    "def check_seen(cur, seen, conflict):\n",
    "  if cur in seen:\n",
    "    conflict += 1\n",
    "  else: # haven't seen queen in cur yet\n",
    "    seen.append(cur)\n",
    "   \n",
    "# Calculate the number of queen pairs in the same position for any given board\n",
    "def checkDuplicate(individual):\n",
    "    dup = 0\n",
    "    dup = len(individual) - len(set(individual)) # set ignores duplicates\n",
    "    return dup * 50     "
   ]
  },
  {
   "cell_type": "code",
   "execution_count": 1271,
   "metadata": {
    "colab": {
     "base_uri": "https://localhost:8080/"
    },
    "id": "vHRpBVQRecHm",
    "outputId": "dc9dee7c-4150-4c82-ec18-542055dbd987"
   },
   "outputs": [
    {
     "name": "stdout",
     "output_type": "stream",
     "text": [
      "-|-|-|-|-|-|-|-|\n",
      "----------------\n",
      "-|-|-|-|-|-|-|-|\n",
      "----------------\n",
      "-|-|-|-|-|-|-|-|\n",
      "----------------\n",
      "-|-|-|-|-|X|-|-|\n",
      "----------------\n",
      "-|-|-|-|-|-|X|-|\n",
      "----------------\n",
      "-|-|-|-|-|-|-|-|\n",
      "----------------\n",
      "-|-|-|X|X|-|-|-|\n",
      "----------------\n",
      "X|-|X|X|X|-|-|-|\n",
      "----------------\n"
     ]
    }
   ],
   "source": [
    "show_grid(pop[0])"
   ]
  },
  {
   "cell_type": "markdown",
   "metadata": {
    "id": "tikbcB_kVOT-"
   },
   "source": [
    "### 5 pts:  Writer your code in the cell below to register \"evaluate\" function to toolbox"
   ]
  },
  {
   "cell_type": "code",
   "execution_count": 1272,
   "metadata": {
    "id": "UmPXu-HqixjS"
   },
   "outputs": [],
   "source": [
    "toolbox.register(\"evaluate\", evaFitness)"
   ]
  },
  {
   "cell_type": "code",
   "execution_count": 1273,
   "metadata": {
    "id": "_eDjyzBlVOUB"
   },
   "outputs": [],
   "source": [
    "toolbox.register(\"mate\", tools.cxTwoPoint)\n",
    "\n",
    "toolbox.register(\"mutate\", tools.mutUniformInt, low = 0, up = 63, indpb=0.1)\n",
    "\n",
    "toolbox.register(\"select\", tools.selTournament, tournsize=3)"
   ]
  },
  {
   "cell_type": "code",
   "execution_count": 1274,
   "metadata": {
    "id": "6uej76HoVOUD"
   },
   "outputs": [],
   "source": [
    "stats = tools.Statistics(key=lambda ind: ind.fitness.values)"
   ]
  },
  {
   "cell_type": "code",
   "execution_count": 1275,
   "metadata": {
    "id": "W8cWVXmxVOUH"
   },
   "outputs": [],
   "source": [
    "stats.register(\"avg\", np.mean)\n",
    "stats.register(\"min\", np.min)"
   ]
  },
  {
   "cell_type": "markdown",
   "metadata": {
    "id": "OmnhqV_MVOUJ"
   },
   "source": [
    "### 10 pts:  Writer your code in the cell below to create the first generation, the hall of fame, and launch the genetic algorithm: eaSimple().   How many individuals you want to have for each generation and how many generations you want GA to go thourgh for each run?     Vary those two parameters to see the change. "
   ]
  },
  {
   "cell_type": "code",
   "execution_count": 1276,
   "metadata": {
    "colab": {
     "base_uri": "https://localhost:8080/"
    },
    "id": "SsTaPuPgVOUK",
    "outputId": "0b22a454-f6c0-4c35-aaa8-23e22a6b8df4"
   },
   "outputs": [
    {
     "name": "stdout",
     "output_type": "stream",
     "text": [
      "gen\tnevals\tavg  \tmin\n",
      "0  \t100   \t22.51\t10 \n",
      "1  \t55    \t20.74\t10 \n",
      "2  \t48    \t20.3 \t10 \n",
      "3  \t62    \t23.29\t10 \n",
      "4  \t61    \t19.29\t10 \n",
      "5  \t42    \t18.81\t10 \n",
      "6  \t57    \t15.48\t10 \n",
      "7  \t44    \t12.89\t6  \n",
      "8  \t54    \t13.27\t6  \n",
      "9  \t51    \t15.44\t6  \n",
      "10 \t51    \t10.97\t6  \n",
      "11 \t54    \t13.36\t6  \n",
      "12 \t43    \t10.75\t6  \n",
      "13 \t56    \t11.67\t6  \n",
      "14 \t45    \t7.78 \t6  \n",
      "15 \t54    \t9.59 \t6  \n",
      "16 \t63    \t11.06\t6  \n",
      "17 \t54    \t9.6  \t6  \n",
      "18 \t56    \t8.75 \t6  \n",
      "19 \t58    \t8.71 \t6  \n",
      "20 \t47    \t8.97 \t6  \n",
      "21 \t51    \t8.62 \t6  \n",
      "22 \t56    \t9.73 \t6  \n",
      "23 \t54    \t10.22\t6  \n",
      "24 \t42    \t7.01 \t6  \n",
      "25 \t44    \t7.75 \t6  \n",
      "26 \t58    \t7.23 \t6  \n",
      "27 \t45    \t8.09 \t6  \n",
      "28 \t46    \t9.98 \t6  \n",
      "29 \t52    \t8.32 \t6  \n",
      "30 \t55    \t10.17\t6  \n",
      "31 \t54    \t8.11 \t6  \n",
      "32 \t48    \t8.63 \t6  \n",
      "33 \t61    \t9.22 \t6  \n",
      "34 \t55    \t9.14 \t6  \n",
      "35 \t53    \t9.43 \t6  \n",
      "36 \t52    \t10.12\t6  \n",
      "37 \t57    \t8.07 \t6  \n",
      "38 \t48    \t8.34 \t6  \n",
      "39 \t49    \t9.89 \t6  \n",
      "40 \t49    \t8.95 \t6  \n",
      "41 \t59    \t9.02 \t6  \n",
      "42 \t49    \t9.56 \t6  \n",
      "43 \t51    \t8.79 \t6  \n",
      "44 \t56    \t8.77 \t6  \n",
      "45 \t43    \t8.13 \t6  \n",
      "46 \t49    \t11.76\t6  \n",
      "47 \t48    \t9.61 \t6  \n",
      "48 \t50    \t7.8  \t6  \n",
      "49 \t52    \t8.92 \t6  \n",
      "50 \t50    \t8.83 \t6  \n",
      "51 \t48    \t8.5  \t6  \n",
      "52 \t52    \t7.94 \t6  \n",
      "53 \t56    \t7.91 \t6  \n",
      "54 \t46    \t8.57 \t6  \n",
      "55 \t52    \t9.41 \t6  \n",
      "56 \t53    \t7.38 \t6  \n",
      "57 \t57    \t10.3 \t6  \n",
      "58 \t56    \t9.57 \t6  \n",
      "59 \t59    \t8.74 \t6  \n",
      "60 \t52    \t9.66 \t6  \n",
      "61 \t60    \t8.84 \t6  \n",
      "62 \t46    \t10.29\t6  \n",
      "63 \t45    \t9.84 \t6  \n",
      "64 \t53    \t8.48 \t6  \n",
      "65 \t54    \t10.02\t6  \n",
      "66 \t52    \t8.98 \t6  \n",
      "67 \t51    \t10.14\t6  \n",
      "68 \t48    \t10.16\t6  \n",
      "69 \t51    \t10.06\t6  \n",
      "70 \t48    \t9.72 \t6  \n",
      "71 \t53    \t9.55 \t6  \n",
      "72 \t56    \t9.28 \t6  \n",
      "73 \t53    \t9.31 \t6  \n",
      "74 \t41    \t7.56 \t3  \n",
      "75 \t53    \t9.34 \t3  \n",
      "76 \t63    \t9.33 \t3  \n",
      "77 \t54    \t9.05 \t3  \n",
      "78 \t49    \t7.11 \t3  \n",
      "79 \t60    \t7.67 \t3  \n",
      "80 \t55    \t7.24 \t3  \n",
      "81 \t58    \t7.46 \t3  \n",
      "82 \t57    \t8.47 \t3  \n",
      "83 \t49    \t5.3  \t3  \n",
      "84 \t56    \t6.33 \t3  \n",
      "85 \t58    \t6.34 \t3  \n",
      "86 \t48    \t4.87 \t3  \n",
      "87 \t56    \t6.29 \t3  \n",
      "88 \t57    \t4.18 \t3  \n",
      "89 \t54    \t6.66 \t3  \n",
      "90 \t44    \t5.64 \t3  \n",
      "91 \t51    \t5.37 \t3  \n",
      "92 \t55    \t5.39 \t3  \n",
      "93 \t53    \t6.06 \t3  \n",
      "94 \t59    \t5.9  \t3  \n",
      "95 \t51    \t6.87 \t3  \n",
      "96 \t47    \t6.32 \t3  \n",
      "97 \t58    \t7.59 \t3  \n",
      "98 \t53    \t7.57 \t3  \n",
      "99 \t48    \t6.07 \t3  \n",
      "100\t43    \t4.3  \t3  \n"
     ]
    }
   ],
   "source": [
    "pop = toolbox.population(n=100)\n",
    "\n",
    "hof = tools.HallOfFame(maxsize=1)\n",
    "\n",
    "pop, log = algorithms.eaSimple(pop, toolbox, cxpb=0.2, mutpb=0.4, ngen=100, stats=stats, halloffame=hof, verbose=True)"
   ]
  },
  {
   "cell_type": "markdown",
   "metadata": {
    "id": "OkApdsjQVOUL"
   },
   "source": [
    "### 5 pts:  Plot the \"avg\" and \"min\" for each generation"
   ]
  },
  {
   "cell_type": "code",
   "execution_count": 1277,
   "metadata": {
    "colab": {
     "base_uri": "https://localhost:8080/",
     "height": 279
    },
    "id": "gcFc3eOyVOUM",
    "outputId": "42c9936c-f586-4787-eec4-57913379b2b8",
    "scrolled": true
   },
   "outputs": [
    {
     "data": {
      "image/png": "[encoded data removed]",
      "text/plain": [
       "<Figure size 432x288 with 1 Axes>"
      ]
     },
     "metadata": {
      "needs_background": "light"
     },
     "output_type": "display_data"
    }
   ],
   "source": [
    "import matplotlib.pyplot as plt\n",
    "%matplotlib inline  \n",
    "\n",
    "gen, avg, min_, max_ = log.select(\"gen\", \"avg\", \"min\", \"max\")\n",
    "\n",
    "plt.plot(gen, avg, label=\"average\")\n",
    "plt.plot(gen, min_, label=\"minimum\")\n",
    "plt.xlabel(\"Generation\")\n",
    "plt.ylabel(\"Fitness\")\n",
    "plt.legend(loc=\"lower right\")\n",
    "plt.show()"
   ]
  },
  {
   "cell_type": "markdown",
   "metadata": {
    "id": "t6PFTvUZVOUN"
   },
   "source": [
    "### 5 pts:  Print out the best individual found and its fitness value.  Show the best individual as chessboard"
   ]
  },
  {
   "cell_type": "code",
   "execution_count": 1278,
   "metadata": {
    "colab": {
     "base_uri": "https://localhost:8080/"
    },
    "id": "-MeBQ0BZVOUO",
    "outputId": "9cfaaa47-3431-4cf4-8414-4e13acd258f5"
   },
   "outputs": [
    {
     "name": "stdout",
     "output_type": "stream",
     "text": [
      "Best individual is: \n",
      "[17, 13, 18, 9, 41, 42, 21, 45]\n",
      "-|-|-|-|-|-|-|-|\n",
      "----------------\n",
      "-|X|-|-|-|X|-|-|\n",
      "----------------\n",
      "-|X|X|-|-|X|-|-|\n",
      "----------------\n",
      "-|-|-|-|-|-|-|-|\n",
      "----------------\n",
      "-|-|-|-|-|-|-|-|\n",
      "----------------\n",
      "-|X|X|-|-|X|-|-|\n",
      "----------------\n",
      "-|-|-|-|-|-|-|-|\n",
      "----------------\n",
      "-|-|-|-|-|-|-|-|\n",
      "----------------\n",
      "None\n",
      "\n",
      "with fitness:  (3.0,)\n"
     ]
    }
   ],
   "source": [
    "print(\"Best individual is: \")\n",
    "print(hof[0])\n",
    "print(show_grid(hof[0]))\n",
    "print(\"\\nwith fitness: \", hof[0].fitness)"
   ]
  },
  {
   "cell_type": "markdown",
   "metadata": {
    "id": "_PCJJdWAVOUP"
   },
   "source": [
    "## Part II: Row-index-based board representation"
   ]
  },
  {
   "cell_type": "code",
   "execution_count": 1279,
   "metadata": {
    "colab": {
     "base_uri": "https://localhost:8080/"
    },
    "id": "BF0R7swEVOUQ",
    "outputId": "b0243c13-d7a9-4cd1-908e-ddc60f7b3195"
   },
   "outputs": [
    {
     "name": "stderr",
     "output_type": "stream",
     "text": [
      "/usr/local/lib/python3.7/dist-packages/deap/creator.py:141: RuntimeWarning: A class named 'FitnessMin' has already been created and it will be overwritten. Consider deleting previous creation of that class or rename it.\n",
      "  RuntimeWarning)\n",
      "/usr/local/lib/python3.7/dist-packages/deap/creator.py:141: RuntimeWarning: A class named 'Individual' has already been created and it will be overwritten. Consider deleting previous creation of that class or rename it.\n",
      "  RuntimeWarning)\n"
     ]
    }
   ],
   "source": [
    "import random\n",
    "import numpy as np\n",
    "from deap import algorithms, base, creator, tools\n",
    "\n",
    "creator.create(\"FitnessMin\", base.Fitness, weights=(-1.0,))\n",
    "creator.create(\"Individual\", list, fitness=creator.FitnessMin)"
   ]
  },
  {
   "cell_type": "markdown",
   "metadata": {
    "id": "YCwVbnHrVOUS"
   },
   "source": [
    "Each row of the chess row is indexed from 0->7 . we place different queens on different rows initially.  The sequence [ a b c d .... ] means that in $0^{th}$ row, $a^{th}$ column, the queen is present and so on"
   ]
  },
  {
   "cell_type": "code",
   "execution_count": 1280,
   "metadata": {
    "id": "n4II9oePVOUS"
   },
   "outputs": [],
   "source": [
    "toolbox = base.Toolbox()\n",
    "\n",
    "toolbox.register(\"attr_int\", random.randint, 0, 7)\n",
    "toolbox.register(\"individual\", tools.initRepeat, creator.Individual,\n",
    "                 toolbox.attr_int, n=8)"
   ]
  },
  {
   "cell_type": "code",
   "execution_count": 1281,
   "metadata": {
    "colab": {
     "base_uri": "https://localhost:8080/"
    },
    "id": "W-tn8be2VOUU",
    "outputId": "e2612622-be9a-4243-fb59-244f9bc55e18"
   },
   "outputs": [
    {
     "data": {
      "text/plain": [
       "[4, 1, 0, 7, 7, 7, 7, 5]"
      ]
     },
     "execution_count": 1281,
     "metadata": {},
     "output_type": "execute_result"
    }
   ],
   "source": [
    "toolbox.individual()"
   ]
  },
  {
   "cell_type": "code",
   "execution_count": 1282,
   "metadata": {
    "id": "97EqErd3VOUX"
   },
   "outputs": [],
   "source": [
    "def show_grid(board):\n",
    "    \n",
    "    n = [0]*64\n",
    "    \n",
    "    for i in range(len(board)):\n",
    "        n[board[i] + i*8] = 1\n",
    "      \n",
    "    \n",
    "    for i in range(8):\n",
    "        for j in range(64):\n",
    "            if j // 8 == i:\n",
    "                if n[j] == 1:\n",
    "                    print('X',end=\"|\")\n",
    "                else:\n",
    "                    print('-',end=\"|\")\n",
    "        print()\n",
    "        print(\"----------------\")"
   ]
  },
  {
   "cell_type": "code",
   "execution_count": 1283,
   "metadata": {
    "id": "UxkDfoxbVOUb"
   },
   "outputs": [],
   "source": [
    "toolbox.register(\"population\", tools.initRepeat, list, toolbox.individual)"
   ]
  },
  {
   "cell_type": "code",
   "execution_count": 1284,
   "metadata": {
    "colab": {
     "base_uri": "https://localhost:8080/"
    },
    "id": "lcY06x24VOUe",
    "outputId": "8d59d4cc-e10f-49dc-9276-4159ec6a655f"
   },
   "outputs": [
    {
     "name": "stdout",
     "output_type": "stream",
     "text": [
      "[7, 2, 4, 4, 0, 0, 0, 7]\n"
     ]
    }
   ],
   "source": [
    "pop = toolbox.population(n=5)\n",
    "\n",
    "print(pop[0])"
   ]
  },
  {
   "cell_type": "code",
   "execution_count": 1285,
   "metadata": {
    "colab": {
     "base_uri": "https://localhost:8080/"
    },
    "id": "KYoqKKm8VOUg",
    "outputId": "e9972226-8b46-4b2e-e56d-385c2b28e885"
   },
   "outputs": [
    {
     "name": "stdout",
     "output_type": "stream",
     "text": [
      "-|-|-|-|-|-|-|X|\n",
      "----------------\n",
      "-|-|X|-|-|-|-|-|\n",
      "----------------\n",
      "-|-|-|-|X|-|-|-|\n",
      "----------------\n",
      "-|-|-|-|X|-|-|-|\n",
      "----------------\n",
      "X|-|-|-|-|-|-|-|\n",
      "----------------\n",
      "X|-|-|-|-|-|-|-|\n",
      "----------------\n",
      "X|-|-|-|-|-|-|-|\n",
      "----------------\n",
      "-|-|-|-|-|-|-|X|\n",
      "----------------\n"
     ]
    }
   ],
   "source": [
    "show_grid(pop[0])"
   ]
  },
  {
   "cell_type": "markdown",
   "metadata": {
    "id": "6_wZvS3mVOUh"
   },
   "source": [
    "### 10 pts:  Write your code in the cell below to define the \"evaFitness\" function, which return the fitness of any given board\n",
    "\n",
    "- evaFitness() returns the total number of distinct pairs of queens that attack each other.  \n",
    "\n",
    "- The following are some test cases you may use to verify the correctness of the evaFitness() function:\n",
    "\n",
    " * evaFitness([0, 2, 6, 7, 7, 4, 1, 6]) should return (4,)\n",
    "\n",
    " * evaFitness([7, 5, 2, 4, 3, 1, 3, 5]) should return (6,)\n",
    "\n",
    " * evaFitness([3, 1, 6, 0, 5, 7, 2, 1]) should return (5,)\n",
    "\n",
    " * evaFitness([7, 3, 1, 4, 5, 1, 3, 5]) should return (6,)\n",
    "\n"
   ]
  },
  {
   "cell_type": "code",
   "execution_count": 1286,
   "metadata": {
    "id": "bk1Rn57oVOUi"
   },
   "outputs": [],
   "source": [
    "#fitness function\n",
    "def evaFitness(individual):\n",
    "  seen_cols = []\n",
    "  conflict = 0\n",
    "  \n",
    "  for col in individual: # each integer in individual is the col # of the queen\n",
    "    if col in seen_cols:\n",
    "      conflict += 1\n",
    "    else: # haven't seen queen in current column\n",
    "      seen_cols.append(col)\n",
    "\n",
    "  # check diagonals\n",
    "  for i in range(len(seen_cols)):\n",
    "    j = i + 1 \n",
    "    while j < len(seen_cols):\n",
    "      if abs(seen_cols[i] - seen_cols[j]) == abs(i - j): # if col difference == row difference: diagonal conflict\n",
    "        conflict += 1\n",
    "      j += 1\n",
    "  return (conflict,)"
   ]
  },
  {
   "cell_type": "markdown",
   "metadata": {
    "id": "MLkixA1YVOUj"
   },
   "source": [
    "### 5 pts:  Writer your code in the cell below to register \"evaluate\" function to toolbox"
   ]
  },
  {
   "cell_type": "code",
   "execution_count": 1287,
   "metadata": {
    "id": "TMwldAeuVOUk"
   },
   "outputs": [],
   "source": [
    "toolbox.register(\"evaluate\", evaFitness)"
   ]
  },
  {
   "cell_type": "code",
   "execution_count": 1288,
   "metadata": {
    "id": "O-xOKMI4VOUl"
   },
   "outputs": [],
   "source": [
    "toolbox.register(\"mate\", tools.cxTwoPoint)\n",
    "\n",
    "toolbox.register(\"mutate\", tools.mutUniformInt, low = 0, up = 7, indpb=0.1)\n",
    "\n",
    "toolbox.register(\"select\", tools.selTournament, tournsize=3)"
   ]
  },
  {
   "cell_type": "code",
   "execution_count": 1289,
   "metadata": {
    "id": "R1jlpMTNVOUn"
   },
   "outputs": [],
   "source": [
    "stats = tools.Statistics(key=lambda ind: ind.fitness.values)\n",
    "\n",
    "stats.register(\"avg\", np.mean)\n",
    "stats.register(\"min\", np.min)"
   ]
  },
  {
   "cell_type": "markdown",
   "metadata": {
    "id": "pyRth-sHVOUq"
   },
   "source": [
    "### 10 pts:  Writer your code in the cell below to create the first generation, the hall of fame, and launch the genetic algorithm: eaSimple().   How many individuals you want to have for each generation and how many generations you want GA to go thourgh for each run?     Vary those two parameters to see the change. "
   ]
  },
  {
   "cell_type": "code",
   "execution_count": 1290,
   "metadata": {
    "colab": {
     "base_uri": "https://localhost:8080/"
    },
    "id": "3aJJcDUVVOUq",
    "outputId": "9682308c-5d32-4348-b64d-5e4fe032900d"
   },
   "outputs": [
    {
     "name": "stdout",
     "output_type": "stream",
     "text": [
      "gen\tnevals\tavg \tmin\n",
      "0  \t100   \t5.09\t2  \n",
      "1  \t38    \t3.9 \t2  \n",
      "2  \t59    \t3.36\t1  \n",
      "3  \t53    \t3.15\t1  \n",
      "4  \t44    \t2.6 \t1  \n",
      "5  \t49    \t2.5 \t1  \n",
      "6  \t49    \t2.4 \t1  \n",
      "7  \t49    \t1.9 \t1  \n",
      "8  \t55    \t1.89\t1  \n",
      "9  \t50    \t1.62\t1  \n",
      "10 \t44    \t1.65\t1  \n",
      "11 \t51    \t1.65\t1  \n",
      "12 \t57    \t1.42\t1  \n",
      "13 \t48    \t1.32\t1  \n",
      "14 \t46    \t1.27\t1  \n",
      "15 \t56    \t1.33\t1  \n",
      "16 \t44    \t1.23\t1  \n",
      "17 \t55    \t1.25\t1  \n",
      "18 \t49    \t1.4 \t1  \n",
      "19 \t44    \t1.39\t1  \n",
      "20 \t53    \t1.43\t1  \n",
      "21 \t44    \t1.35\t1  \n",
      "22 \t59    \t1.47\t1  \n",
      "23 \t50    \t1.36\t1  \n",
      "24 \t58    \t1.57\t1  \n",
      "25 \t43    \t1.56\t1  \n",
      "26 \t51    \t1.39\t1  \n",
      "27 \t51    \t1.27\t1  \n",
      "28 \t50    \t1.43\t1  \n",
      "29 \t55    \t1.49\t1  \n",
      "30 \t44    \t1.43\t1  \n",
      "31 \t45    \t1.34\t1  \n",
      "32 \t46    \t1.36\t1  \n",
      "33 \t55    \t1.52\t1  \n",
      "34 \t55    \t1.39\t1  \n",
      "35 \t50    \t1.3 \t1  \n",
      "36 \t40    \t1.19\t1  \n",
      "37 \t57    \t1.51\t1  \n",
      "38 \t57    \t1.54\t1  \n",
      "39 \t47    \t1.28\t1  \n",
      "40 \t47    \t1.2 \t1  \n",
      "41 \t60    \t1.58\t1  \n",
      "42 \t57    \t1.68\t1  \n",
      "43 \t59    \t1.34\t1  \n",
      "44 \t56    \t1.28\t1  \n",
      "45 \t47    \t1.46\t1  \n",
      "46 \t54    \t1.37\t1  \n",
      "47 \t50    \t1.36\t1  \n",
      "48 \t44    \t1.37\t1  \n",
      "49 \t54    \t1.5 \t1  \n",
      "50 \t48    \t1.37\t1  \n",
      "51 \t52    \t1.39\t1  \n",
      "52 \t56    \t1.38\t1  \n",
      "53 \t46    \t1.53\t1  \n",
      "54 \t59    \t1.37\t1  \n",
      "55 \t56    \t1.49\t1  \n",
      "56 \t53    \t1.48\t1  \n",
      "57 \t52    \t1.64\t1  \n",
      "58 \t42    \t1.38\t1  \n",
      "59 \t55    \t1.36\t1  \n",
      "60 \t54    \t1.52\t1  \n",
      "61 \t52    \t1.42\t1  \n",
      "62 \t57    \t1.45\t1  \n",
      "63 \t44    \t1.37\t1  \n",
      "64 \t50    \t1.49\t1  \n",
      "65 \t48    \t1.39\t1  \n",
      "66 \t59    \t1.43\t1  \n",
      "67 \t47    \t1.55\t1  \n",
      "68 \t52    \t1.46\t1  \n",
      "69 \t56    \t1.53\t1  \n",
      "70 \t50    \t1.49\t1  \n",
      "71 \t45    \t1.34\t1  \n",
      "72 \t47    \t1.56\t1  \n",
      "73 \t55    \t1.37\t1  \n",
      "74 \t53    \t1.32\t1  \n",
      "75 \t47    \t1.41\t1  \n",
      "76 \t54    \t1.42\t1  \n",
      "77 \t43    \t1.53\t1  \n",
      "78 \t49    \t1.38\t1  \n",
      "79 \t52    \t1.56\t1  \n",
      "80 \t57    \t1.54\t1  \n",
      "81 \t53    \t1.61\t1  \n",
      "82 \t50    \t1.36\t1  \n",
      "83 \t42    \t1.18\t1  \n",
      "84 \t49    \t1.36\t1  \n",
      "85 \t49    \t1.44\t1  \n",
      "86 \t50    \t1.48\t1  \n",
      "87 \t53    \t1.38\t1  \n",
      "88 \t70    \t1.51\t1  \n",
      "89 \t52    \t1.33\t1  \n",
      "90 \t50    \t1.64\t1  \n",
      "91 \t58    \t1.58\t1  \n",
      "92 \t59    \t1.52\t1  \n",
      "93 \t50    \t1.43\t1  \n",
      "94 \t52    \t1.44\t1  \n",
      "95 \t47    \t1.53\t1  \n",
      "96 \t40    \t1.4 \t1  \n",
      "97 \t49    \t1.45\t1  \n",
      "98 \t54    \t1.53\t1  \n",
      "99 \t48    \t1.3 \t1  \n",
      "100\t53    \t1.52\t1  \n"
     ]
    }
   ],
   "source": [
    "pop = toolbox.population(n=100)\n",
    "\n",
    "hof = tools.HallOfFame(maxsize=1)\n",
    "\n",
    "pop, log = algorithms.eaSimple(pop, toolbox, cxpb=0.2, mutpb=0.4, ngen=100, stats=stats, halloffame=hof, verbose=True)"
   ]
  },
  {
   "cell_type": "markdown",
   "metadata": {
    "id": "xrJfr0ePVOUs"
   },
   "source": [
    "### 5 pts:  Plot the \"avg\" and \"min\" for each generation"
   ]
  },
  {
   "cell_type": "code",
   "execution_count": 1291,
   "metadata": {
    "colab": {
     "base_uri": "https://localhost:8080/",
     "height": 279
    },
    "id": "LJyAUq4WVOUs",
    "outputId": "07eea47b-ab73-46e9-eb6b-9ac8751e0fbd"
   },
   "outputs": [
    {
     "data": {
      "image/png": "[encoded data removed]",
      "text/plain": [
       "<Figure size 432x288 with 1 Axes>"
      ]
     },
     "metadata": {
      "needs_background": "light"
     },
     "output_type": "display_data"
    }
   ],
   "source": [
    "# Plot the \"avg\" and \"min\" for each generation\n",
    "gen, avg, min_, max_ = log.select(\"gen\", \"avg\", \"min\", \"max\")\n",
    "\n",
    "plt.plot(gen, avg, label=\"average\")\n",
    "plt.plot(gen, min_, label=\"minimum\")\n",
    "plt.xlabel(\"Generation\")\n",
    "plt.ylabel(\"Fitness\")\n",
    "plt.legend(loc=\"lower right\")\n",
    "plt.show()"
   ]
  },
  {
   "cell_type": "markdown",
   "metadata": {
    "id": "ry6HXqIMVOUv"
   },
   "source": [
    "### 5 pts:  Print out the best individual found and its fitness value.  Show the best individual as chessboard"
   ]
  },
  {
   "cell_type": "code",
   "execution_count": 1292,
   "metadata": {
    "colab": {
     "base_uri": "https://localhost:8080/"
    },
    "id": "PkC9uOqCVOUv",
    "outputId": "1254be55-d51e-4040-ba66-34b5da1be6eb"
   },
   "outputs": [
    {
     "name": "stdout",
     "output_type": "stream",
     "text": [
      "Best individual is: \n",
      "[1, 5, 2, 0, 3, 7, 3, 4]\n",
      "-|X|-|-|-|-|-|-|\n",
      "----------------\n",
      "-|-|-|-|-|X|-|-|\n",
      "----------------\n",
      "-|-|X|-|-|-|-|-|\n",
      "----------------\n",
      "X|-|-|-|-|-|-|-|\n",
      "----------------\n",
      "-|-|-|X|-|-|-|-|\n",
      "----------------\n",
      "-|-|-|-|-|-|-|X|\n",
      "----------------\n",
      "-|-|-|X|-|-|-|-|\n",
      "----------------\n",
      "-|-|-|-|X|-|-|-|\n",
      "----------------\n",
      "None\n",
      "\n",
      "with fitness:  (1.0,)\n"
     ]
    }
   ],
   "source": [
    "print(\"Best individual is: \")\n",
    "print(hof[0])\n",
    "print(show_grid(hof[0]))\n",
    "print(\"\\nwith fitness: \", hof[0].fitness)"
   ]
  },
  {
   "cell_type": "markdown",
   "metadata": {
    "id": "qhba2jQ1VOUw"
   },
   "source": [
    "### Reflection:  Which board representaion is better in terms of ease of coding and final solution quality?   Try different parameter values for mutation and crossover and vary the number of generations and the population size.  Write your findings in the report.        "
   ]
  }
 ],
 "metadata": {
  "colab": {
   "collapsed_sections": [],
   "name": "Project 4 ",
   "provenance": []
  },
  "kernelspec": {
   "display_name": "Python 3",
   "language": "python",
   "name": "python3"
  },
  "language_info": {
   "codemirror_mode": {
    "name": "ipython",
    "version": 3
   },
   "file_extension": ".py",
   "mimetype": "text/x-python",
   "name": "python",
   "nbconvert_exporter": "python",
   "pygments_lexer": "ipython3",
   "version": "3.6.5"
  }
 },
 "nbformat": 4,
 "nbformat_minor": 1
}
