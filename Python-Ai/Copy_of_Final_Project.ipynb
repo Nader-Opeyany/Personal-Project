{
 "cells": [
  {
   "cell_type": "code",
   "execution_count": null,
   "metadata": {
    "colab": {
     "base_uri": "https://localhost:8080/"
    },
    "id": "DIYaiMZZDiyw",
    "outputId": "21fcdb2e-d971-40f1-d850-5af075f3accc"
   },
   "outputs": [
    {
     "name": "stderr",
     "output_type": "stream",
     "text": [
      "/usr/local/lib/python3.7/dist-packages/nltk/twitter/__init__.py:20: UserWarning: The twython library has not been installed. Some functionality from the twitter package will not be available.\n",
      "  warnings.warn(\"The twython library has not been installed. \"\n"
     ]
    }
   ],
   "source": [
    "# CSC 180 Assignment 4 \n",
    "# Due Date: 4/22/22\n",
    "# Name: Stetten Fessler ID: 302267979\n",
    "# Name: Nader S Opeyany ID: 301785393\n",
    "\n",
    "import tensorflow as tf\n",
    "import pandas as pd \n",
    "import numpy as np \n",
    "import nltk\n",
    "from sklearn import metrics, preprocessing\n",
    "import matplotlib.pyplot as plt\n",
    "from collections.abc import Sequence\n",
    "from google.colab import files\n",
    "from nltk.sentiment import SentimentIntensityAnalyzer # Used to grade positive or negative sentiment\n",
    "from wordcloud import WordCloud, STOPWORDS\n",
    "import sklearn.feature_extraction.text as sk_text\n",
    "from sklearn.model_selection import train_test_split\n",
    "from tensorflow.keras.models import Sequential\n",
    "from tensorflow.keras.layers import Dense, Activation, Dropout, Flatten, Conv2D, MaxPooling2D\n",
    "from tensorflow.keras.callbacks import EarlyStopping\n",
    "from sklearn.metrics import confusion_matrix\n",
    "\n",
    "\n",
    "# Plot a confusion matrix.\n",
    "# cm is the confusion matrix, names are the names of the classes.\n",
    "def plot_confusion_matrix(cm, names, title='Confusion matrix', cmap=plt.cm.Blues):\n",
    "    plt.imshow(cm, interpolation='nearest', cmap=cmap)\n",
    "    plt.title(title)\n",
    "    plt.colorbar()\n",
    "    tick_marks = np.arange(len(names))\n",
    "    plt.xticks(tick_marks, names, rotation=45)\n",
    "    plt.yticks(tick_marks, names)\n",
    "    plt.tight_layout()\n",
    "    plt.ylabel('True label')\n",
    "    plt.xlabel('Predicted label')\n",
    "\n",
    "# Convert a Pandas dataframe to the x,y inputs that TensorFlow needs\n",
    "def to_xy(df, target):\n",
    "    result = []\n",
    "    for x in df.columns:\n",
    "        if x != target:\n",
    "            result.append(x)\n",
    "    # find out the type of the target column. \n",
    "    target_type = df[target].dtypes\n",
    "    target_type = target_type[0] if isinstance(target_type, Sequence) else target_type\n",
    "    print(f\"Target type: {target_type}\")\n",
    "    classification = True\n",
    "    # Encode to int for classification, float otherwise. TensorFlow likes 32 bits.\n",
    "    if classification:\n",
    "        # Classification\n",
    "        print(\"Classifying correctly!\")\n",
    "        dummies = pd.get_dummies(df[target])\n",
    "        return df[result].values.astype(np.float32), dummies.values.astype(np.float32)\n",
    "    else:\n",
    "        # Regression\n",
    "        print(\"incorrectly using regression\")\n",
    "        return df[result].values.astype(np.float32), df[target].values.astype(np.float32)\n",
    "        \n",
    "# Convert all missing values in the specified column to the median\n",
    "def missing_median(df, name):\n",
    "    med = df[name].median()\n",
    "    df[name] = df[name].fillna(med)\n",
    "\n",
    "# Encode a numeric column as zscores\n",
    "def encode_numeric_zscore(df, name, mean=None, sd=None):\n",
    "    if mean is None:\n",
    "        mean = df[name].mean()\n",
    "\n",
    "    if sd is None:\n",
    "        sd = df[name].std()\n",
    "\n",
    "    df[name] = (df[name] - mean) / sd\n",
    "\n",
    "def encode_text_dummy(df, name):\n",
    "    dummies = pd.get_dummies(df[name])\n",
    "    for x in dummies.columns:\n",
    "        dummy_name = \"{}-{}\".format(name, x)\n",
    "        df[dummy_name] = dummies[x]\n",
    "    df.drop(name, axis=1, inplace=True)\n",
    "\n",
    "def plot_sentiment(df, feature, title):\n",
    "    counts = df[feature].value_counts()\n",
    "    percent = counts/sum(counts)\n",
    "\n",
    "    fig, (ax1, ax2) = plt.subplots(ncols=2, figsize=(12, 5))\n",
    "\n",
    "    counts.plot(kind='bar', ax=ax1, color='green')\n",
    "    percent.plot(kind='bar', ax=ax2, color='blue')\n",
    "    ax1.set_ylabel(f'Counts : {title} sentiments', size=12)\n",
    "    ax2.set_ylabel(f'Percentage : {title} sentiments', size=12)\n",
    "    plt.suptitle(f\"Sentiment analysis: {title}\")\n",
    "    plt.tight_layout()\n",
    "    plt.show()\n",
    "\n",
    "  # label encoder\n",
    "def encode_text_index(df, name):\n",
    "    le = preprocessing.LabelEncoder()\n",
    "    df[name] = le.fit_transform(df[name])\n",
    "    return le.classes_"
   ]
  },
  {
   "cell_type": "code",
   "execution_count": null,
   "metadata": {
    "colab": {
     "base_uri": "https://localhost:8080/"
    },
    "id": "Q_cXzPAqFK4e",
    "outputId": "6ecd014d-065c-457d-e0ff-a746c62bb6d5"
   },
   "outputs": [
    {
     "name": "stdout",
     "output_type": "stream",
     "text": [
      "/device:GPU:0\n",
      "[nltk_data] Downloading package vader_lexicon to /root/nltk_data...\n"
     ]
    },
    {
     "data": {
      "text/plain": [
       "True"
      ]
     },
     "execution_count": 5,
     "metadata": {},
     "output_type": "execute_result"
    }
   ],
   "source": [
    "print(tf.test.gpu_device_name()) # test if GPU enabled\n",
    "nltk.download('vader_lexicon')"
   ]
  },
  {
   "cell_type": "code",
   "execution_count": null,
   "metadata": {
    "colab": {
     "base_uri": "https://localhost:8080/",
     "height": 73,
     "resources": {
      "http://localhost:8080/nbextensions/google.colab/files.js": {
       "data": "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",
       "headers": [
        [
         "content-type",
         "application/javascript"
        ]
       ],
       "ok": true,
       "status": 200,
       "status_text": ""
      }
     }
    },
    "id": "cU3kR3O2aDoC",
    "outputId": "95a62277-3141-4082-9735-67b9317f440e"
   },
   "outputs": [
    {
     "data": {
      "text/html": [
       "\n",
       "     <input type=\"file\" id=\"files-e2232443-3d26-452f-8052-d5a09b75ea26\" name=\"files[]\" multiple disabled\n",
       "        style=\"border:none\" />\n",
       "     <output id=\"result-e2232443-3d26-452f-8052-d5a09b75ea26\">\n",
       "      Upload widget is only available when the cell has been executed in the\n",
       "      current browser session. Please rerun this cell to enable.\n",
       "      </output>\n",
       "      <script src=\"/nbextensions/google.colab/files.js\"></script> "
      ],
      "text/plain": [
       "<IPython.core.display.HTML object>"
      ]
     },
     "metadata": {},
     "output_type": "display_data"
    },
    {
     "name": "stdout",
     "output_type": "stream",
     "text": [
      "Saving reddit_politics.csv to reddit_politics.csv\n"
     ]
    }
   ],
   "source": [
    "uploaded = files.upload() # allows files to be uploaded from local disk"
   ]
  },
  {
   "cell_type": "code",
   "execution_count": null,
   "metadata": {
    "colab": {
     "base_uri": "https://localhost:8080/",
     "height": 424
    },
    "id": "lYwbZPfqF5JR",
    "outputId": "74d31815-1baf-4198-fb6e-addab11f1f49"
   },
   "outputs": [
    {
     "data": {
      "text/html": [
       "\n",
       "  <div id=\"df-721f1019-62f0-4157-919e-c178e7efd9f8\">\n",
       "    <div class=\"colab-df-container\">\n",
       "      <div>\n",
       "<style scoped>\n",
       "    .dataframe tbody tr th:only-of-type {\n",
       "        vertical-align: middle;\n",
       "    }\n",
       "\n",
       "    .dataframe tbody tr th {\n",
       "        vertical-align: top;\n",
       "    }\n",
       "\n",
       "    .dataframe thead th {\n",
       "        text-align: right;\n",
       "    }\n",
       "</style>\n",
       "<table border=\"1\" class=\"dataframe\">\n",
       "  <thead>\n",
       "    <tr style=\"text-align: right;\">\n",
       "      <th></th>\n",
       "      <th>title</th>\n",
       "      <th>score</th>\n",
       "      <th>id</th>\n",
       "      <th>url</th>\n",
       "      <th>comms_num</th>\n",
       "      <th>created</th>\n",
       "      <th>body</th>\n",
       "      <th>timestamp</th>\n",
       "    </tr>\n",
       "  </thead>\n",
       "  <tbody>\n",
       "    <tr>\n",
       "      <th>0</th>\n",
       "      <td>A Right Wing Group in Texas Is Making up Fake ...</td>\n",
       "      <td>166</td>\n",
       "      <td>ov1ll3</td>\n",
       "      <td>https://www.vice.com/en/article/wx5bg5/blm-whi...</td>\n",
       "      <td>34</td>\n",
       "      <td>1.627710e+09</td>\n",
       "      <td>NaN</td>\n",
       "      <td>2021-07-31 08:35:47</td>\n",
       "    </tr>\n",
       "    <tr>\n",
       "      <th>1</th>\n",
       "      <td>DOJ sues Texas over Gov. Abbott’s order for la...</td>\n",
       "      <td>85</td>\n",
       "      <td>ouwc9i</td>\n",
       "      <td>https://www.kxan.com/news/texas-politics/doj-s...</td>\n",
       "      <td>17</td>\n",
       "      <td>1.627688e+09</td>\n",
       "      <td>NaN</td>\n",
       "      <td>2021-07-31 02:26:12</td>\n",
       "    </tr>\n",
       "    <tr>\n",
       "      <th>2</th>\n",
       "      <td>From white evangelicals to QAnon believers, wh...</td>\n",
       "      <td>57</td>\n",
       "      <td>ouqkxi</td>\n",
       "      <td>https://www.modbee.com/news/coronavirus/articl...</td>\n",
       "      <td>27</td>\n",
       "      <td>1.627671e+09</td>\n",
       "      <td>NaN</td>\n",
       "      <td>2021-07-30 21:45:09</td>\n",
       "    </tr>\n",
       "    <tr>\n",
       "      <th>3</th>\n",
       "      <td>DeSantis says he’ll sign order allowing parent...</td>\n",
       "      <td>269</td>\n",
       "      <td>oun2lc</td>\n",
       "      <td>https://www.orlandosentinel.com/politics/os-ne...</td>\n",
       "      <td>138</td>\n",
       "      <td>1.627660e+09</td>\n",
       "      <td>NaN</td>\n",
       "      <td>2021-07-30 18:43:05</td>\n",
       "    </tr>\n",
       "    <tr>\n",
       "      <th>4</th>\n",
       "      <td>Show on the road: In Utah, Florida Gov. Ron De...</td>\n",
       "      <td>31</td>\n",
       "      <td>ouipnz</td>\n",
       "      <td>https://www.tallahassee.com/story/news/politic...</td>\n",
       "      <td>28</td>\n",
       "      <td>1.627644e+09</td>\n",
       "      <td>NaN</td>\n",
       "      <td>2021-07-30 14:21:54</td>\n",
       "    </tr>\n",
       "    <tr>\n",
       "      <th>...</th>\n",
       "      <td>...</td>\n",
       "      <td>...</td>\n",
       "      <td>...</td>\n",
       "      <td>...</td>\n",
       "      <td>...</td>\n",
       "      <td>...</td>\n",
       "      <td>...</td>\n",
       "      <td>...</td>\n",
       "    </tr>\n",
       "    <tr>\n",
       "      <th>11340</th>\n",
       "      <td>Comment</td>\n",
       "      <td>1</td>\n",
       "      <td>h78eyen</td>\n",
       "      <td>NaN</td>\n",
       "      <td>0</td>\n",
       "      <td>1.627759e+09</td>\n",
       "      <td>A little lite fascism to start your day.</td>\n",
       "      <td>2021-07-31 19:22:26</td>\n",
       "    </tr>\n",
       "    <tr>\n",
       "      <th>11341</th>\n",
       "      <td>Comment</td>\n",
       "      <td>1</td>\n",
       "      <td>h78eycl</td>\n",
       "      <td>NaN</td>\n",
       "      <td>0</td>\n",
       "      <td>1.627759e+09</td>\n",
       "      <td>Yeah sure, nobody’s believing this bullshit</td>\n",
       "      <td>2021-07-31 19:22:25</td>\n",
       "    </tr>\n",
       "    <tr>\n",
       "      <th>11342</th>\n",
       "      <td>Comment</td>\n",
       "      <td>1</td>\n",
       "      <td>h78eybv</td>\n",
       "      <td>NaN</td>\n",
       "      <td>0</td>\n",
       "      <td>1.627759e+09</td>\n",
       "      <td>I really hope democrats can primary some of th...</td>\n",
       "      <td>2021-07-31 19:22:25</td>\n",
       "    </tr>\n",
       "    <tr>\n",
       "      <th>11343</th>\n",
       "      <td>Comment</td>\n",
       "      <td>1</td>\n",
       "      <td>h78eyb2</td>\n",
       "      <td>NaN</td>\n",
       "      <td>0</td>\n",
       "      <td>1.627759e+09</td>\n",
       "      <td>Idiots who want people to die</td>\n",
       "      <td>2021-07-31 19:22:24</td>\n",
       "    </tr>\n",
       "    <tr>\n",
       "      <th>11344</th>\n",
       "      <td>Comment</td>\n",
       "      <td>1</td>\n",
       "      <td>h78ey8n</td>\n",
       "      <td>NaN</td>\n",
       "      <td>0</td>\n",
       "      <td>1.627759e+09</td>\n",
       "      <td>Lying piece of crap…</td>\n",
       "      <td>2021-07-31 19:22:23</td>\n",
       "    </tr>\n",
       "  </tbody>\n",
       "</table>\n",
       "<p>11345 rows × 8 columns</p>\n",
       "</div>\n",
       "      <button class=\"colab-df-convert\" onclick=\"convertToInteractive('df-721f1019-62f0-4157-919e-c178e7efd9f8')\"\n",
       "              title=\"Convert this dataframe to an interactive table.\"\n",
       "              style=\"display:none;\">\n",
       "        \n",
       "  <svg xmlns=\"http://www.w3.org/2000/svg\" height=\"24px\"viewBox=\"0 0 24 24\"\n",
       "       width=\"24px\">\n",
       "    <path d=\"M0 0h24v24H0V0z\" fill=\"none\"/>\n",
       "    <path d=\"M18.56 5.44l.94 2.06.94-2.06 2.06-.94-2.06-.94-.94-2.06-.94 2.06-2.06.94zm-11 1L8.5 8.5l.94-2.06 2.06-.94-2.06-.94L8.5 2.5l-.94 2.06-2.06.94zm10 10l.94 2.06.94-2.06 2.06-.94-2.06-.94-.94-2.06-.94 2.06-2.06.94z\"/><path d=\"M17.41 7.96l-1.37-1.37c-.4-.4-.92-.59-1.43-.59-.52 0-1.04.2-1.43.59L10.3 9.45l-7.72 7.72c-.78.78-.78 2.05 0 2.83L4 21.41c.39.39.9.59 1.41.59.51 0 1.02-.2 1.41-.59l7.78-7.78 2.81-2.81c.8-.78.8-2.07 0-2.86zM5.41 20L4 18.59l7.72-7.72 1.47 1.35L5.41 20z\"/>\n",
       "  </svg>\n",
       "      </button>\n",
       "      \n",
       "  <style>\n",
       "    .colab-df-container {\n",
       "      display:flex;\n",
       "      flex-wrap:wrap;\n",
       "      gap: 12px;\n",
       "    }\n",
       "\n",
       "    .colab-df-convert {\n",
       "      background-color: #E8F0FE;\n",
       "      border: none;\n",
       "      border-radius: 50%;\n",
       "      cursor: pointer;\n",
       "      display: none;\n",
       "      fill: #1967D2;\n",
       "      height: 32px;\n",
       "      padding: 0 0 0 0;\n",
       "      width: 32px;\n",
       "    }\n",
       "\n",
       "    .colab-df-convert:hover {\n",
       "      background-color: #E2EBFA;\n",
       "      box-shadow: 0px 1px 2px rgba(60, 64, 67, 0.3), 0px 1px 3px 1px rgba(60, 64, 67, 0.15);\n",
       "      fill: #174EA6;\n",
       "    }\n",
       "\n",
       "    [theme=dark] .colab-df-convert {\n",
       "      background-color: #3B4455;\n",
       "      fill: #D2E3FC;\n",
       "    }\n",
       "\n",
       "    [theme=dark] .colab-df-convert:hover {\n",
       "      background-color: #434B5C;\n",
       "      box-shadow: 0px 1px 3px 1px rgba(0, 0, 0, 0.15);\n",
       "      filter: drop-shadow(0px 1px 2px rgba(0, 0, 0, 0.3));\n",
       "      fill: #FFFFFF;\n",
       "    }\n",
       "  </style>\n",
       "\n",
       "      <script>\n",
       "        const buttonEl =\n",
       "          document.querySelector('#df-721f1019-62f0-4157-919e-c178e7efd9f8 button.colab-df-convert');\n",
       "        buttonEl.style.display =\n",
       "          google.colab.kernel.accessAllowed ? 'block' : 'none';\n",
       "\n",
       "        async function convertToInteractive(key) {\n",
       "          const element = document.querySelector('#df-721f1019-62f0-4157-919e-c178e7efd9f8');\n",
       "          const dataTable =\n",
       "            await google.colab.kernel.invokeFunction('convertToInteractive',\n",
       "                                                     [key], {});\n",
       "          if (!dataTable) return;\n",
       "\n",
       "          const docLinkHtml = 'Like what you see? Visit the ' +\n",
       "            '<a target=\"_blank\" href=https://colab.research.google.com/notebooks/data_table.ipynb>data table notebook</a>'\n",
       "            + ' to learn more about interactive tables.';\n",
       "          element.innerHTML = '';\n",
       "          dataTable['output_type'] = 'display_data';\n",
       "          await google.colab.output.renderOutput(dataTable, element);\n",
       "          const docLink = document.createElement('div');\n",
       "          docLink.innerHTML = docLinkHtml;\n",
       "          element.appendChild(docLink);\n",
       "        }\n",
       "      </script>\n",
       "    </div>\n",
       "  </div>\n",
       "  "
      ],
      "text/plain": [
       "                                                   title  score       id  \\\n",
       "0      A Right Wing Group in Texas Is Making up Fake ...    166   ov1ll3   \n",
       "1      DOJ sues Texas over Gov. Abbott’s order for la...     85   ouwc9i   \n",
       "2      From white evangelicals to QAnon believers, wh...     57   ouqkxi   \n",
       "3      DeSantis says he’ll sign order allowing parent...    269   oun2lc   \n",
       "4      Show on the road: In Utah, Florida Gov. Ron De...     31   ouipnz   \n",
       "...                                                  ...    ...      ...   \n",
       "11340                                            Comment      1  h78eyen   \n",
       "11341                                            Comment      1  h78eycl   \n",
       "11342                                            Comment      1  h78eybv   \n",
       "11343                                            Comment      1  h78eyb2   \n",
       "11344                                            Comment      1  h78ey8n   \n",
       "\n",
       "                                                     url  comms_num  \\\n",
       "0      https://www.vice.com/en/article/wx5bg5/blm-whi...         34   \n",
       "1      https://www.kxan.com/news/texas-politics/doj-s...         17   \n",
       "2      https://www.modbee.com/news/coronavirus/articl...         27   \n",
       "3      https://www.orlandosentinel.com/politics/os-ne...        138   \n",
       "4      https://www.tallahassee.com/story/news/politic...         28   \n",
       "...                                                  ...        ...   \n",
       "11340                                                NaN          0   \n",
       "11341                                                NaN          0   \n",
       "11342                                                NaN          0   \n",
       "11343                                                NaN          0   \n",
       "11344                                                NaN          0   \n",
       "\n",
       "            created                                               body  \\\n",
       "0      1.627710e+09                                                NaN   \n",
       "1      1.627688e+09                                                NaN   \n",
       "2      1.627671e+09                                                NaN   \n",
       "3      1.627660e+09                                                NaN   \n",
       "4      1.627644e+09                                                NaN   \n",
       "...             ...                                                ...   \n",
       "11340  1.627759e+09           A little lite fascism to start your day.   \n",
       "11341  1.627759e+09        Yeah sure, nobody’s believing this bullshit   \n",
       "11342  1.627759e+09  I really hope democrats can primary some of th...   \n",
       "11343  1.627759e+09                      Idiots who want people to die   \n",
       "11344  1.627759e+09                               Lying piece of crap…   \n",
       "\n",
       "                 timestamp  \n",
       "0      2021-07-31 08:35:47  \n",
       "1      2021-07-31 02:26:12  \n",
       "2      2021-07-30 21:45:09  \n",
       "3      2021-07-30 18:43:05  \n",
       "4      2021-07-30 14:21:54  \n",
       "...                    ...  \n",
       "11340  2021-07-31 19:22:26  \n",
       "11341  2021-07-31 19:22:25  \n",
       "11342  2021-07-31 19:22:25  \n",
       "11343  2021-07-31 19:22:24  \n",
       "11344  2021-07-31 19:22:23  \n",
       "\n",
       "[11345 rows x 8 columns]"
      ]
     },
     "execution_count": 7,
     "metadata": {},
     "output_type": "execute_result"
    }
   ],
   "source": [
    "df = pd.read_csv(\"reddit_politics.csv\",encoding=\"utf-8\")\n",
    "df"
   ]
  },
  {
   "cell_type": "markdown",
   "metadata": {
    "id": "3IpgRO-CJXnJ"
   },
   "source": [
    "# Data Pre-processing"
   ]
  },
  {
   "cell_type": "code",
   "execution_count": null,
   "metadata": {
    "colab": {
     "base_uri": "https://localhost:8080/",
     "height": 424
    },
    "id": "aKigLQb8JGqJ",
    "outputId": "a81836a1-5a80-479f-cf24-07e95086c06a"
   },
   "outputs": [
    {
     "data": {
      "text/html": [
       "\n",
       "  <div id=\"df-674d823f-bc4c-4bd0-97e0-b73ae03d339c\">\n",
       "    <div class=\"colab-df-container\">\n",
       "      <div>\n",
       "<style scoped>\n",
       "    .dataframe tbody tr th:only-of-type {\n",
       "        vertical-align: middle;\n",
       "    }\n",
       "\n",
       "    .dataframe tbody tr th {\n",
       "        vertical-align: top;\n",
       "    }\n",
       "\n",
       "    .dataframe thead th {\n",
       "        text-align: right;\n",
       "    }\n",
       "</style>\n",
       "<table border=\"1\" class=\"dataframe\">\n",
       "  <thead>\n",
       "    <tr style=\"text-align: right;\">\n",
       "      <th></th>\n",
       "      <th>title</th>\n",
       "      <th>score</th>\n",
       "      <th>id</th>\n",
       "      <th>comms_num</th>\n",
       "    </tr>\n",
       "  </thead>\n",
       "  <tbody>\n",
       "    <tr>\n",
       "      <th>0</th>\n",
       "      <td>A Right Wing Group in Texas Is Making up Fake ...</td>\n",
       "      <td>166</td>\n",
       "      <td>ov1ll3</td>\n",
       "      <td>34</td>\n",
       "    </tr>\n",
       "    <tr>\n",
       "      <th>1</th>\n",
       "      <td>DOJ sues Texas over Gov. Abbott’s order for la...</td>\n",
       "      <td>85</td>\n",
       "      <td>ouwc9i</td>\n",
       "      <td>17</td>\n",
       "    </tr>\n",
       "    <tr>\n",
       "      <th>2</th>\n",
       "      <td>From white evangelicals to QAnon believers, wh...</td>\n",
       "      <td>57</td>\n",
       "      <td>ouqkxi</td>\n",
       "      <td>27</td>\n",
       "    </tr>\n",
       "    <tr>\n",
       "      <th>3</th>\n",
       "      <td>DeSantis says he’ll sign order allowing parent...</td>\n",
       "      <td>269</td>\n",
       "      <td>oun2lc</td>\n",
       "      <td>138</td>\n",
       "    </tr>\n",
       "    <tr>\n",
       "      <th>4</th>\n",
       "      <td>Show on the road: In Utah, Florida Gov. Ron De...</td>\n",
       "      <td>31</td>\n",
       "      <td>ouipnz</td>\n",
       "      <td>28</td>\n",
       "    </tr>\n",
       "    <tr>\n",
       "      <th>...</th>\n",
       "      <td>...</td>\n",
       "      <td>...</td>\n",
       "      <td>...</td>\n",
       "      <td>...</td>\n",
       "    </tr>\n",
       "    <tr>\n",
       "      <th>11340</th>\n",
       "      <td>Comment</td>\n",
       "      <td>1</td>\n",
       "      <td>h78eyen</td>\n",
       "      <td>0</td>\n",
       "    </tr>\n",
       "    <tr>\n",
       "      <th>11341</th>\n",
       "      <td>Comment</td>\n",
       "      <td>1</td>\n",
       "      <td>h78eycl</td>\n",
       "      <td>0</td>\n",
       "    </tr>\n",
       "    <tr>\n",
       "      <th>11342</th>\n",
       "      <td>Comment</td>\n",
       "      <td>1</td>\n",
       "      <td>h78eybv</td>\n",
       "      <td>0</td>\n",
       "    </tr>\n",
       "    <tr>\n",
       "      <th>11343</th>\n",
       "      <td>Comment</td>\n",
       "      <td>1</td>\n",
       "      <td>h78eyb2</td>\n",
       "      <td>0</td>\n",
       "    </tr>\n",
       "    <tr>\n",
       "      <th>11344</th>\n",
       "      <td>Comment</td>\n",
       "      <td>1</td>\n",
       "      <td>h78ey8n</td>\n",
       "      <td>0</td>\n",
       "    </tr>\n",
       "  </tbody>\n",
       "</table>\n",
       "<p>11345 rows × 4 columns</p>\n",
       "</div>\n",
       "      <button class=\"colab-df-convert\" onclick=\"convertToInteractive('df-674d823f-bc4c-4bd0-97e0-b73ae03d339c')\"\n",
       "              title=\"Convert this dataframe to an interactive table.\"\n",
       "              style=\"display:none;\">\n",
       "        \n",
       "  <svg xmlns=\"http://www.w3.org/2000/svg\" height=\"24px\"viewBox=\"0 0 24 24\"\n",
       "       width=\"24px\">\n",
       "    <path d=\"M0 0h24v24H0V0z\" fill=\"none\"/>\n",
       "    <path d=\"M18.56 5.44l.94 2.06.94-2.06 2.06-.94-2.06-.94-.94-2.06-.94 2.06-2.06.94zm-11 1L8.5 8.5l.94-2.06 2.06-.94-2.06-.94L8.5 2.5l-.94 2.06-2.06.94zm10 10l.94 2.06.94-2.06 2.06-.94-2.06-.94-.94-2.06-.94 2.06-2.06.94z\"/><path d=\"M17.41 7.96l-1.37-1.37c-.4-.4-.92-.59-1.43-.59-.52 0-1.04.2-1.43.59L10.3 9.45l-7.72 7.72c-.78.78-.78 2.05 0 2.83L4 21.41c.39.39.9.59 1.41.59.51 0 1.02-.2 1.41-.59l7.78-7.78 2.81-2.81c.8-.78.8-2.07 0-2.86zM5.41 20L4 18.59l7.72-7.72 1.47 1.35L5.41 20z\"/>\n",
       "  </svg>\n",
       "      </button>\n",
       "      \n",
       "  <style>\n",
       "    .colab-df-container {\n",
       "      display:flex;\n",
       "      flex-wrap:wrap;\n",
       "      gap: 12px;\n",
       "    }\n",
       "\n",
       "    .colab-df-convert {\n",
       "      background-color: #E8F0FE;\n",
       "      border: none;\n",
       "      border-radius: 50%;\n",
       "      cursor: pointer;\n",
       "      display: none;\n",
       "      fill: #1967D2;\n",
       "      height: 32px;\n",
       "      padding: 0 0 0 0;\n",
       "      width: 32px;\n",
       "    }\n",
       "\n",
       "    .colab-df-convert:hover {\n",
       "      background-color: #E2EBFA;\n",
       "      box-shadow: 0px 1px 2px rgba(60, 64, 67, 0.3), 0px 1px 3px 1px rgba(60, 64, 67, 0.15);\n",
       "      fill: #174EA6;\n",
       "    }\n",
       "\n",
       "    [theme=dark] .colab-df-convert {\n",
       "      background-color: #3B4455;\n",
       "      fill: #D2E3FC;\n",
       "    }\n",
       "\n",
       "    [theme=dark] .colab-df-convert:hover {\n",
       "      background-color: #434B5C;\n",
       "      box-shadow: 0px 1px 3px 1px rgba(0, 0, 0, 0.15);\n",
       "      filter: drop-shadow(0px 1px 2px rgba(0, 0, 0, 0.3));\n",
       "      fill: #FFFFFF;\n",
       "    }\n",
       "  </style>\n",
       "\n",
       "      <script>\n",
       "        const buttonEl =\n",
       "          document.querySelector('#df-674d823f-bc4c-4bd0-97e0-b73ae03d339c button.colab-df-convert');\n",
       "        buttonEl.style.display =\n",
       "          google.colab.kernel.accessAllowed ? 'block' : 'none';\n",
       "\n",
       "        async function convertToInteractive(key) {\n",
       "          const element = document.querySelector('#df-674d823f-bc4c-4bd0-97e0-b73ae03d339c');\n",
       "          const dataTable =\n",
       "            await google.colab.kernel.invokeFunction('convertToInteractive',\n",
       "                                                     [key], {});\n",
       "          if (!dataTable) return;\n",
       "\n",
       "          const docLinkHtml = 'Like what you see? Visit the ' +\n",
       "            '<a target=\"_blank\" href=https://colab.research.google.com/notebooks/data_table.ipynb>data table notebook</a>'\n",
       "            + ' to learn more about interactive tables.';\n",
       "          element.innerHTML = '';\n",
       "          dataTable['output_type'] = 'display_data';\n",
       "          await google.colab.output.renderOutput(dataTable, element);\n",
       "          const docLink = document.createElement('div');\n",
       "          docLink.innerHTML = docLinkHtml;\n",
       "          element.appendChild(docLink);\n",
       "        }\n",
       "      </script>\n",
       "    </div>\n",
       "  </div>\n",
       "  "
      ],
      "text/plain": [
       "                                                   title  score       id  \\\n",
       "0      A Right Wing Group in Texas Is Making up Fake ...    166   ov1ll3   \n",
       "1      DOJ sues Texas over Gov. Abbott’s order for la...     85   ouwc9i   \n",
       "2      From white evangelicals to QAnon believers, wh...     57   ouqkxi   \n",
       "3      DeSantis says he’ll sign order allowing parent...    269   oun2lc   \n",
       "4      Show on the road: In Utah, Florida Gov. Ron De...     31   ouipnz   \n",
       "...                                                  ...    ...      ...   \n",
       "11340                                            Comment      1  h78eyen   \n",
       "11341                                            Comment      1  h78eycl   \n",
       "11342                                            Comment      1  h78eybv   \n",
       "11343                                            Comment      1  h78eyb2   \n",
       "11344                                            Comment      1  h78ey8n   \n",
       "\n",
       "       comms_num  \n",
       "0             34  \n",
       "1             17  \n",
       "2             27  \n",
       "3            138  \n",
       "4             28  \n",
       "...          ...  \n",
       "11340          0  \n",
       "11341          0  \n",
       "11342          0  \n",
       "11343          0  \n",
       "11344          0  \n",
       "\n",
       "[11345 rows x 4 columns]"
      ]
     },
     "execution_count": 8,
     "metadata": {},
     "output_type": "execute_result"
    }
   ],
   "source": [
    "df.drop(columns =[\"created\",'url','body', 'timestamp'], axis = 1, inplace = True)\n",
    "\n",
    "df\n"
   ]
  },
  {
   "cell_type": "code",
   "execution_count": null,
   "metadata": {
    "id": "dk1SjTrwgNBn"
   },
   "outputs": [],
   "source": [
    "# drop posts with < 5 comments\n",
    "df = df[df.comms_num >= 5]"
   ]
  },
  {
   "cell_type": "code",
   "execution_count": null,
   "metadata": {
    "id": "_WGMJyd0YA0R"
   },
   "outputs": [],
   "source": [
    "sia = SentimentIntensityAnalyzer()\n",
    "#This is for sentiment. It contains a function sia = SentimentIntensityAnalyzer()\n",
    "def find_sentiment(post):\n",
    "    if sia.polarity_scores(post)[\"compound\"] > 0:\n",
    "        return \"Positive\"\n",
    "    elif sia.polarity_scores(post)[\"compound\"] <= 0:\n",
    "        return \"Negative\""
   ]
  },
  {
   "cell_type": "code",
   "execution_count": null,
   "metadata": {
    "colab": {
     "base_uri": "https://localhost:8080/",
     "height": 477
    },
    "id": "CDaa-07vbgun",
    "outputId": "9099b6fd-8dc4-40d2-9699-515decb2d073"
   },
   "outputs": [
    {
     "name": "stderr",
     "output_type": "stream",
     "text": [
      "/usr/local/lib/python3.7/dist-packages/ipykernel_launcher.py:1: SettingWithCopyWarning: \n",
      "A value is trying to be set on a copy of a slice from a DataFrame.\n",
      "Try using .loc[row_indexer,col_indexer] = value instead\n",
      "\n",
      "See the caveats in the documentation: https://pandas.pydata.org/pandas-docs/stable/user_guide/indexing.html#returning-a-view-versus-a-copy\n",
      "  \"\"\"Entry point for launching an IPython kernel.\n"
     ]
    },
    {
     "data": {
      "image/png": "[encoded data removed]",
      "text/plain": [
       "<Figure size 864x360 with 2 Axes>"
      ]
     },
     "metadata": {
      "needs_background": "light"
     },
     "output_type": "display_data"
    }
   ],
   "source": [
    "df['title_sentiment'] = df['title'].apply(lambda x: find_sentiment(x))\n",
    "plot_sentiment(df, 'title_sentiment', 'Title')"
   ]
  },
  {
   "cell_type": "code",
   "execution_count": null,
   "metadata": {
    "colab": {
     "base_uri": "https://localhost:8080/",
     "height": 424
    },
    "id": "GVSJjKjyhVgS",
    "outputId": "c050fc70-59bc-433f-dbd7-7ea390734697"
   },
   "outputs": [
    {
     "data": {
      "text/html": [
       "\n",
       "  <div id=\"df-1b8c0a83-73c9-447b-aa6e-8e14edbb190b\">\n",
       "    <div class=\"colab-df-container\">\n",
       "      <div>\n",
       "<style scoped>\n",
       "    .dataframe tbody tr th:only-of-type {\n",
       "        vertical-align: middle;\n",
       "    }\n",
       "\n",
       "    .dataframe tbody tr th {\n",
       "        vertical-align: top;\n",
       "    }\n",
       "\n",
       "    .dataframe thead th {\n",
       "        text-align: right;\n",
       "    }\n",
       "</style>\n",
       "<table border=\"1\" class=\"dataframe\">\n",
       "  <thead>\n",
       "    <tr style=\"text-align: right;\">\n",
       "      <th></th>\n",
       "      <th>title</th>\n",
       "      <th>score</th>\n",
       "      <th>id</th>\n",
       "      <th>comms_num</th>\n",
       "      <th>title_sentiment</th>\n",
       "    </tr>\n",
       "  </thead>\n",
       "  <tbody>\n",
       "    <tr>\n",
       "      <th>0</th>\n",
       "      <td>A Right Wing Group in Texas Is Making up Fake ...</td>\n",
       "      <td>166</td>\n",
       "      <td>ov1ll3</td>\n",
       "      <td>34</td>\n",
       "      <td>Negative</td>\n",
       "    </tr>\n",
       "    <tr>\n",
       "      <th>1</th>\n",
       "      <td>DOJ sues Texas over Gov. Abbott’s order for la...</td>\n",
       "      <td>85</td>\n",
       "      <td>ouwc9i</td>\n",
       "      <td>17</td>\n",
       "      <td>Negative</td>\n",
       "    </tr>\n",
       "    <tr>\n",
       "      <th>2</th>\n",
       "      <td>From white evangelicals to QAnon believers, wh...</td>\n",
       "      <td>57</td>\n",
       "      <td>ouqkxi</td>\n",
       "      <td>27</td>\n",
       "      <td>Negative</td>\n",
       "    </tr>\n",
       "    <tr>\n",
       "      <th>3</th>\n",
       "      <td>DeSantis says he’ll sign order allowing parent...</td>\n",
       "      <td>269</td>\n",
       "      <td>oun2lc</td>\n",
       "      <td>138</td>\n",
       "      <td>Negative</td>\n",
       "    </tr>\n",
       "    <tr>\n",
       "      <th>4</th>\n",
       "      <td>Show on the road: In Utah, Florida Gov. Ron De...</td>\n",
       "      <td>31</td>\n",
       "      <td>ouipnz</td>\n",
       "      <td>28</td>\n",
       "      <td>Negative</td>\n",
       "    </tr>\n",
       "    <tr>\n",
       "      <th>...</th>\n",
       "      <td>...</td>\n",
       "      <td>...</td>\n",
       "      <td>...</td>\n",
       "      <td>...</td>\n",
       "      <td>...</td>\n",
       "    </tr>\n",
       "    <tr>\n",
       "      <th>10448</th>\n",
       "      <td>Jake Ellzey wins Texas special election runoff...</td>\n",
       "      <td>39</td>\n",
       "      <td>ot1t5b</td>\n",
       "      <td>10</td>\n",
       "      <td>Positive</td>\n",
       "    </tr>\n",
       "    <tr>\n",
       "      <th>10449</th>\n",
       "      <td>Capitol Riot Officer Shares Voicemail Death Th...</td>\n",
       "      <td>1964</td>\n",
       "      <td>ot1qji</td>\n",
       "      <td>143</td>\n",
       "      <td>Negative</td>\n",
       "    </tr>\n",
       "    <tr>\n",
       "      <th>10450</th>\n",
       "      <td>The Justice Department Won’t Agree To Defend R...</td>\n",
       "      <td>255</td>\n",
       "      <td>ot1qep</td>\n",
       "      <td>7</td>\n",
       "      <td>Positive</td>\n",
       "    </tr>\n",
       "    <tr>\n",
       "      <th>10451</th>\n",
       "      <td>Judge Tells Biden Admin To Stop Releasing COVI...</td>\n",
       "      <td>0</td>\n",
       "      <td>ot1n04</td>\n",
       "      <td>11</td>\n",
       "      <td>Negative</td>\n",
       "    </tr>\n",
       "    <tr>\n",
       "      <th>10452</th>\n",
       "      <td>Ron DeSantis Hosted A Power-Packed Panel On Ma...</td>\n",
       "      <td>0</td>\n",
       "      <td>ot1l04</td>\n",
       "      <td>22</td>\n",
       "      <td>Negative</td>\n",
       "    </tr>\n",
       "  </tbody>\n",
       "</table>\n",
       "<p>915 rows × 5 columns</p>\n",
       "</div>\n",
       "      <button class=\"colab-df-convert\" onclick=\"convertToInteractive('df-1b8c0a83-73c9-447b-aa6e-8e14edbb190b')\"\n",
       "              title=\"Convert this dataframe to an interactive table.\"\n",
       "              style=\"display:none;\">\n",
       "        \n",
       "  <svg xmlns=\"http://www.w3.org/2000/svg\" height=\"24px\"viewBox=\"0 0 24 24\"\n",
       "       width=\"24px\">\n",
       "    <path d=\"M0 0h24v24H0V0z\" fill=\"none\"/>\n",
       "    <path d=\"M18.56 5.44l.94 2.06.94-2.06 2.06-.94-2.06-.94-.94-2.06-.94 2.06-2.06.94zm-11 1L8.5 8.5l.94-2.06 2.06-.94-2.06-.94L8.5 2.5l-.94 2.06-2.06.94zm10 10l.94 2.06.94-2.06 2.06-.94-2.06-.94-.94-2.06-.94 2.06-2.06.94z\"/><path d=\"M17.41 7.96l-1.37-1.37c-.4-.4-.92-.59-1.43-.59-.52 0-1.04.2-1.43.59L10.3 9.45l-7.72 7.72c-.78.78-.78 2.05 0 2.83L4 21.41c.39.39.9.59 1.41.59.51 0 1.02-.2 1.41-.59l7.78-7.78 2.81-2.81c.8-.78.8-2.07 0-2.86zM5.41 20L4 18.59l7.72-7.72 1.47 1.35L5.41 20z\"/>\n",
       "  </svg>\n",
       "      </button>\n",
       "      \n",
       "  <style>\n",
       "    .colab-df-container {\n",
       "      display:flex;\n",
       "      flex-wrap:wrap;\n",
       "      gap: 12px;\n",
       "    }\n",
       "\n",
       "    .colab-df-convert {\n",
       "      background-color: #E8F0FE;\n",
       "      border: none;\n",
       "      border-radius: 50%;\n",
       "      cursor: pointer;\n",
       "      display: none;\n",
       "      fill: #1967D2;\n",
       "      height: 32px;\n",
       "      padding: 0 0 0 0;\n",
       "      width: 32px;\n",
       "    }\n",
       "\n",
       "    .colab-df-convert:hover {\n",
       "      background-color: #E2EBFA;\n",
       "      box-shadow: 0px 1px 2px rgba(60, 64, 67, 0.3), 0px 1px 3px 1px rgba(60, 64, 67, 0.15);\n",
       "      fill: #174EA6;\n",
       "    }\n",
       "\n",
       "    [theme=dark] .colab-df-convert {\n",
       "      background-color: #3B4455;\n",
       "      fill: #D2E3FC;\n",
       "    }\n",
       "\n",
       "    [theme=dark] .colab-df-convert:hover {\n",
       "      background-color: #434B5C;\n",
       "      box-shadow: 0px 1px 3px 1px rgba(0, 0, 0, 0.15);\n",
       "      filter: drop-shadow(0px 1px 2px rgba(0, 0, 0, 0.3));\n",
       "      fill: #FFFFFF;\n",
       "    }\n",
       "  </style>\n",
       "\n",
       "      <script>\n",
       "        const buttonEl =\n",
       "          document.querySelector('#df-1b8c0a83-73c9-447b-aa6e-8e14edbb190b button.colab-df-convert');\n",
       "        buttonEl.style.display =\n",
       "          google.colab.kernel.accessAllowed ? 'block' : 'none';\n",
       "\n",
       "        async function convertToInteractive(key) {\n",
       "          const element = document.querySelector('#df-1b8c0a83-73c9-447b-aa6e-8e14edbb190b');\n",
       "          const dataTable =\n",
       "            await google.colab.kernel.invokeFunction('convertToInteractive',\n",
       "                                                     [key], {});\n",
       "          if (!dataTable) return;\n",
       "\n",
       "          const docLinkHtml = 'Like what you see? Visit the ' +\n",
       "            '<a target=\"_blank\" href=https://colab.research.google.com/notebooks/data_table.ipynb>data table notebook</a>'\n",
       "            + ' to learn more about interactive tables.';\n",
       "          element.innerHTML = '';\n",
       "          dataTable['output_type'] = 'display_data';\n",
       "          await google.colab.output.renderOutput(dataTable, element);\n",
       "          const docLink = document.createElement('div');\n",
       "          docLink.innerHTML = docLinkHtml;\n",
       "          element.appendChild(docLink);\n",
       "        }\n",
       "      </script>\n",
       "    </div>\n",
       "  </div>\n",
       "  "
      ],
      "text/plain": [
       "                                                   title  score      id  \\\n",
       "0      A Right Wing Group in Texas Is Making up Fake ...    166  ov1ll3   \n",
       "1      DOJ sues Texas over Gov. Abbott’s order for la...     85  ouwc9i   \n",
       "2      From white evangelicals to QAnon believers, wh...     57  ouqkxi   \n",
       "3      DeSantis says he’ll sign order allowing parent...    269  oun2lc   \n",
       "4      Show on the road: In Utah, Florida Gov. Ron De...     31  ouipnz   \n",
       "...                                                  ...    ...     ...   \n",
       "10448  Jake Ellzey wins Texas special election runoff...     39  ot1t5b   \n",
       "10449  Capitol Riot Officer Shares Voicemail Death Th...   1964  ot1qji   \n",
       "10450  The Justice Department Won’t Agree To Defend R...    255  ot1qep   \n",
       "10451  Judge Tells Biden Admin To Stop Releasing COVI...      0  ot1n04   \n",
       "10452  Ron DeSantis Hosted A Power-Packed Panel On Ma...      0  ot1l04   \n",
       "\n",
       "       comms_num title_sentiment  \n",
       "0             34        Negative  \n",
       "1             17        Negative  \n",
       "2             27        Negative  \n",
       "3            138        Negative  \n",
       "4             28        Negative  \n",
       "...          ...             ...  \n",
       "10448         10        Positive  \n",
       "10449        143        Negative  \n",
       "10450          7        Positive  \n",
       "10451         11        Negative  \n",
       "10452         22        Negative  \n",
       "\n",
       "[915 rows x 5 columns]"
      ]
     },
     "execution_count": 12,
     "metadata": {},
     "output_type": "execute_result"
    }
   ],
   "source": [
    "df"
   ]
  },
  {
   "cell_type": "code",
   "execution_count": null,
   "metadata": {
    "colab": {
     "base_uri": "https://localhost:8080/"
    },
    "id": "EJBrq-3GiBfo",
    "outputId": "d77d07e9-587b-4770-91a1-3ca9a10931c3"
   },
   "outputs": [
    {
     "name": "stderr",
     "output_type": "stream",
     "text": [
      "/usr/local/lib/python3.7/dist-packages/ipykernel_launcher.py:9: SettingWithCopyWarning: \n",
      "A value is trying to be set on a copy of a slice from a DataFrame.\n",
      "Try using .loc[row_indexer,col_indexer] = value instead\n",
      "\n",
      "See the caveats in the documentation: https://pandas.pydata.org/pandas-docs/stable/user_guide/indexing.html#returning-a-view-versus-a-copy\n",
      "  if __name__ == '__main__':\n"
     ]
    }
   ],
   "source": [
    "#encode y \n",
    "\n",
    "def zeroToOne(string):\n",
    "    if(string =='Negative'):\n",
    "        return int(0)\n",
    "    else:\n",
    "        return int(1)\n",
    "\n",
    "df['title_sentiment'] = df['title_sentiment'].map(zeroToOne)\n",
    "\n",
    "# the issue is in the encoder! to_xy won't recognize as classification if something other than int in target column\n",
    "# title_sentiments = encode_text_index(df, 'title_sentiment')\n",
    "\n"
   ]
  },
  {
   "cell_type": "code",
   "execution_count": null,
   "metadata": {
    "id": "_OT-Yh041F9S"
   },
   "outputs": [],
   "source": [
    ""
   ]
  },
  {
   "cell_type": "code",
   "execution_count": null,
   "metadata": {
    "colab": {
     "base_uri": "https://localhost:8080/"
    },
    "id": "dUfeaUL7c7jI",
    "outputId": "5a447d73-422d-44ce-bec2-7bdbef03338d"
   },
   "outputs": [
    {
     "data": {
      "text/plain": [
       "dtype('int64')"
      ]
     },
     "execution_count": 14,
     "metadata": {},
     "output_type": "execute_result"
    }
   ],
   "source": [
    "df.title_sentiment.dtypes"
   ]
  },
  {
   "cell_type": "code",
   "execution_count": null,
   "metadata": {
    "colab": {
     "base_uri": "https://localhost:8080/"
    },
    "id": "evDD1ocVit-q",
    "outputId": "d262ecce-47c9-4735-de0d-953371926565"
   },
   "outputs": [
    {
     "name": "stderr",
     "output_type": "stream",
     "text": [
      "/usr/local/lib/python3.7/dist-packages/pandas/core/frame.py:4913: SettingWithCopyWarning: \n",
      "A value is trying to be set on a copy of a slice from a DataFrame\n",
      "\n",
      "See the caveats in the documentation: https://pandas.pydata.org/pandas-docs/stable/user_guide/indexing.html#returning-a-view-versus-a-copy\n",
      "  errors=errors,\n"
     ]
    }
   ],
   "source": [
    "df.drop('id', axis = 1, inplace = True)"
   ]
  },
  {
   "cell_type": "code",
   "execution_count": null,
   "metadata": {
    "colab": {
     "base_uri": "https://localhost:8080/",
     "height": 424
    },
    "id": "E1c3pkMSi2v6",
    "outputId": "f90b9b83-ce5f-4c47-85b4-27269a93129e"
   },
   "outputs": [
    {
     "data": {
      "text/html": [
       "\n",
       "  <div id=\"df-cb60a219-c3cc-4e4b-b328-1ddc356bbe34\">\n",
       "    <div class=\"colab-df-container\">\n",
       "      <div>\n",
       "<style scoped>\n",
       "    .dataframe tbody tr th:only-of-type {\n",
       "        vertical-align: middle;\n",
       "    }\n",
       "\n",
       "    .dataframe tbody tr th {\n",
       "        vertical-align: top;\n",
       "    }\n",
       "\n",
       "    .dataframe thead th {\n",
       "        text-align: right;\n",
       "    }\n",
       "</style>\n",
       "<table border=\"1\" class=\"dataframe\">\n",
       "  <thead>\n",
       "    <tr style=\"text-align: right;\">\n",
       "      <th></th>\n",
       "      <th>title</th>\n",
       "      <th>score</th>\n",
       "      <th>comms_num</th>\n",
       "      <th>title_sentiment</th>\n",
       "    </tr>\n",
       "  </thead>\n",
       "  <tbody>\n",
       "    <tr>\n",
       "      <th>0</th>\n",
       "      <td>A Right Wing Group in Texas Is Making up Fake ...</td>\n",
       "      <td>166</td>\n",
       "      <td>34</td>\n",
       "      <td>0</td>\n",
       "    </tr>\n",
       "    <tr>\n",
       "      <th>1</th>\n",
       "      <td>DOJ sues Texas over Gov. Abbott’s order for la...</td>\n",
       "      <td>85</td>\n",
       "      <td>17</td>\n",
       "      <td>0</td>\n",
       "    </tr>\n",
       "    <tr>\n",
       "      <th>2</th>\n",
       "      <td>From white evangelicals to QAnon believers, wh...</td>\n",
       "      <td>57</td>\n",
       "      <td>27</td>\n",
       "      <td>0</td>\n",
       "    </tr>\n",
       "    <tr>\n",
       "      <th>3</th>\n",
       "      <td>DeSantis says he’ll sign order allowing parent...</td>\n",
       "      <td>269</td>\n",
       "      <td>138</td>\n",
       "      <td>0</td>\n",
       "    </tr>\n",
       "    <tr>\n",
       "      <th>4</th>\n",
       "      <td>Show on the road: In Utah, Florida Gov. Ron De...</td>\n",
       "      <td>31</td>\n",
       "      <td>28</td>\n",
       "      <td>0</td>\n",
       "    </tr>\n",
       "    <tr>\n",
       "      <th>...</th>\n",
       "      <td>...</td>\n",
       "      <td>...</td>\n",
       "      <td>...</td>\n",
       "      <td>...</td>\n",
       "    </tr>\n",
       "    <tr>\n",
       "      <th>10448</th>\n",
       "      <td>Jake Ellzey wins Texas special election runoff...</td>\n",
       "      <td>39</td>\n",
       "      <td>10</td>\n",
       "      <td>1</td>\n",
       "    </tr>\n",
       "    <tr>\n",
       "      <th>10449</th>\n",
       "      <td>Capitol Riot Officer Shares Voicemail Death Th...</td>\n",
       "      <td>1964</td>\n",
       "      <td>143</td>\n",
       "      <td>0</td>\n",
       "    </tr>\n",
       "    <tr>\n",
       "      <th>10450</th>\n",
       "      <td>The Justice Department Won’t Agree To Defend R...</td>\n",
       "      <td>255</td>\n",
       "      <td>7</td>\n",
       "      <td>1</td>\n",
       "    </tr>\n",
       "    <tr>\n",
       "      <th>10451</th>\n",
       "      <td>Judge Tells Biden Admin To Stop Releasing COVI...</td>\n",
       "      <td>0</td>\n",
       "      <td>11</td>\n",
       "      <td>0</td>\n",
       "    </tr>\n",
       "    <tr>\n",
       "      <th>10452</th>\n",
       "      <td>Ron DeSantis Hosted A Power-Packed Panel On Ma...</td>\n",
       "      <td>0</td>\n",
       "      <td>22</td>\n",
       "      <td>0</td>\n",
       "    </tr>\n",
       "  </tbody>\n",
       "</table>\n",
       "<p>915 rows × 4 columns</p>\n",
       "</div>\n",
       "      <button class=\"colab-df-convert\" onclick=\"convertToInteractive('df-cb60a219-c3cc-4e4b-b328-1ddc356bbe34')\"\n",
       "              title=\"Convert this dataframe to an interactive table.\"\n",
       "              style=\"display:none;\">\n",
       "        \n",
       "  <svg xmlns=\"http://www.w3.org/2000/svg\" height=\"24px\"viewBox=\"0 0 24 24\"\n",
       "       width=\"24px\">\n",
       "    <path d=\"M0 0h24v24H0V0z\" fill=\"none\"/>\n",
       "    <path d=\"M18.56 5.44l.94 2.06.94-2.06 2.06-.94-2.06-.94-.94-2.06-.94 2.06-2.06.94zm-11 1L8.5 8.5l.94-2.06 2.06-.94-2.06-.94L8.5 2.5l-.94 2.06-2.06.94zm10 10l.94 2.06.94-2.06 2.06-.94-2.06-.94-.94-2.06-.94 2.06-2.06.94z\"/><path d=\"M17.41 7.96l-1.37-1.37c-.4-.4-.92-.59-1.43-.59-.52 0-1.04.2-1.43.59L10.3 9.45l-7.72 7.72c-.78.78-.78 2.05 0 2.83L4 21.41c.39.39.9.59 1.41.59.51 0 1.02-.2 1.41-.59l7.78-7.78 2.81-2.81c.8-.78.8-2.07 0-2.86zM5.41 20L4 18.59l7.72-7.72 1.47 1.35L5.41 20z\"/>\n",
       "  </svg>\n",
       "      </button>\n",
       "      \n",
       "  <style>\n",
       "    .colab-df-container {\n",
       "      display:flex;\n",
       "      flex-wrap:wrap;\n",
       "      gap: 12px;\n",
       "    }\n",
       "\n",
       "    .colab-df-convert {\n",
       "      background-color: #E8F0FE;\n",
       "      border: none;\n",
       "      border-radius: 50%;\n",
       "      cursor: pointer;\n",
       "      display: none;\n",
       "      fill: #1967D2;\n",
       "      height: 32px;\n",
       "      padding: 0 0 0 0;\n",
       "      width: 32px;\n",
       "    }\n",
       "\n",
       "    .colab-df-convert:hover {\n",
       "      background-color: #E2EBFA;\n",
       "      box-shadow: 0px 1px 2px rgba(60, 64, 67, 0.3), 0px 1px 3px 1px rgba(60, 64, 67, 0.15);\n",
       "      fill: #174EA6;\n",
       "    }\n",
       "\n",
       "    [theme=dark] .colab-df-convert {\n",
       "      background-color: #3B4455;\n",
       "      fill: #D2E3FC;\n",
       "    }\n",
       "\n",
       "    [theme=dark] .colab-df-convert:hover {\n",
       "      background-color: #434B5C;\n",
       "      box-shadow: 0px 1px 3px 1px rgba(0, 0, 0, 0.15);\n",
       "      filter: drop-shadow(0px 1px 2px rgba(0, 0, 0, 0.3));\n",
       "      fill: #FFFFFF;\n",
       "    }\n",
       "  </style>\n",
       "\n",
       "      <script>\n",
       "        const buttonEl =\n",
       "          document.querySelector('#df-cb60a219-c3cc-4e4b-b328-1ddc356bbe34 button.colab-df-convert');\n",
       "        buttonEl.style.display =\n",
       "          google.colab.kernel.accessAllowed ? 'block' : 'none';\n",
       "\n",
       "        async function convertToInteractive(key) {\n",
       "          const element = document.querySelector('#df-cb60a219-c3cc-4e4b-b328-1ddc356bbe34');\n",
       "          const dataTable =\n",
       "            await google.colab.kernel.invokeFunction('convertToInteractive',\n",
       "                                                     [key], {});\n",
       "          if (!dataTable) return;\n",
       "\n",
       "          const docLinkHtml = 'Like what you see? Visit the ' +\n",
       "            '<a target=\"_blank\" href=https://colab.research.google.com/notebooks/data_table.ipynb>data table notebook</a>'\n",
       "            + ' to learn more about interactive tables.';\n",
       "          element.innerHTML = '';\n",
       "          dataTable['output_type'] = 'display_data';\n",
       "          await google.colab.output.renderOutput(dataTable, element);\n",
       "          const docLink = document.createElement('div');\n",
       "          docLink.innerHTML = docLinkHtml;\n",
       "          element.appendChild(docLink);\n",
       "        }\n",
       "      </script>\n",
       "    </div>\n",
       "  </div>\n",
       "  "
      ],
      "text/plain": [
       "                                                   title  score  comms_num  \\\n",
       "0      A Right Wing Group in Texas Is Making up Fake ...    166         34   \n",
       "1      DOJ sues Texas over Gov. Abbott’s order for la...     85         17   \n",
       "2      From white evangelicals to QAnon believers, wh...     57         27   \n",
       "3      DeSantis says he’ll sign order allowing parent...    269        138   \n",
       "4      Show on the road: In Utah, Florida Gov. Ron De...     31         28   \n",
       "...                                                  ...    ...        ...   \n",
       "10448  Jake Ellzey wins Texas special election runoff...     39         10   \n",
       "10449  Capitol Riot Officer Shares Voicemail Death Th...   1964        143   \n",
       "10450  The Justice Department Won’t Agree To Defend R...    255          7   \n",
       "10451  Judge Tells Biden Admin To Stop Releasing COVI...      0         11   \n",
       "10452  Ron DeSantis Hosted A Power-Packed Panel On Ma...      0         22   \n",
       "\n",
       "       title_sentiment  \n",
       "0                    0  \n",
       "1                    0  \n",
       "2                    0  \n",
       "3                    0  \n",
       "4                    0  \n",
       "...                ...  \n",
       "10448                1  \n",
       "10449                0  \n",
       "10450                1  \n",
       "10451                0  \n",
       "10452                0  \n",
       "\n",
       "[915 rows x 4 columns]"
      ]
     },
     "execution_count": 16,
     "metadata": {},
     "output_type": "execute_result"
    }
   ],
   "source": [
    "df"
   ]
  },
  {
   "cell_type": "code",
   "execution_count": null,
   "metadata": {
    "colab": {
     "base_uri": "https://localhost:8080/"
    },
    "id": "5RtztBHhiCL3",
    "outputId": "c7d744ab-9639-4f30-ba5f-fc0f5de2dc1a"
   },
   "outputs": [
    {
     "name": "stderr",
     "output_type": "stream",
     "text": [
      "/usr/local/lib/python3.7/dist-packages/ipykernel_launcher.py:72: SettingWithCopyWarning: \n",
      "A value is trying to be set on a copy of a slice from a DataFrame.\n",
      "Try using .loc[row_indexer,col_indexer] = value instead\n",
      "\n",
      "See the caveats in the documentation: https://pandas.pydata.org/pandas-docs/stable/user_guide/indexing.html#returning-a-view-versus-a-copy\n"
     ]
    }
   ],
   "source": [
    "# normalize numeric values \n",
    "numeric_cols = ['score', 'comms_num']\n",
    "for col in range(len(df.columns)):\n",
    "    if df.columns[col] in numeric_cols:\n",
    "        encode_numeric_zscore(df, df.columns[col])"
   ]
  },
  {
   "cell_type": "code",
   "execution_count": null,
   "metadata": {
    "colab": {
     "base_uri": "https://localhost:8080/",
     "height": 424
    },
    "id": "6tf_7t8jmFNJ",
    "outputId": "c311c3db-a13e-4f61-8ce4-1bdd026467a2"
   },
   "outputs": [
    {
     "data": {
      "text/html": [
       "\n",
       "  <div id=\"df-554f53ca-1d70-4ef8-a158-13864b13100c\">\n",
       "    <div class=\"colab-df-container\">\n",
       "      <div>\n",
       "<style scoped>\n",
       "    .dataframe tbody tr th:only-of-type {\n",
       "        vertical-align: middle;\n",
       "    }\n",
       "\n",
       "    .dataframe tbody tr th {\n",
       "        vertical-align: top;\n",
       "    }\n",
       "\n",
       "    .dataframe thead th {\n",
       "        text-align: right;\n",
       "    }\n",
       "</style>\n",
       "<table border=\"1\" class=\"dataframe\">\n",
       "  <thead>\n",
       "    <tr style=\"text-align: right;\">\n",
       "      <th></th>\n",
       "      <th>title</th>\n",
       "      <th>score</th>\n",
       "      <th>comms_num</th>\n",
       "      <th>title_sentiment</th>\n",
       "    </tr>\n",
       "  </thead>\n",
       "  <tbody>\n",
       "    <tr>\n",
       "      <th>0</th>\n",
       "      <td>A Right Wing Group in Texas Is Making up Fake ...</td>\n",
       "      <td>-0.243095</td>\n",
       "      <td>-0.245258</td>\n",
       "      <td>0</td>\n",
       "    </tr>\n",
       "    <tr>\n",
       "      <th>1</th>\n",
       "      <td>DOJ sues Texas over Gov. Abbott’s order for la...</td>\n",
       "      <td>-0.257310</td>\n",
       "      <td>-0.289296</td>\n",
       "      <td>0</td>\n",
       "    </tr>\n",
       "    <tr>\n",
       "      <th>2</th>\n",
       "      <td>From white evangelicals to QAnon believers, wh...</td>\n",
       "      <td>-0.262224</td>\n",
       "      <td>-0.263391</td>\n",
       "      <td>0</td>\n",
       "    </tr>\n",
       "    <tr>\n",
       "      <th>3</th>\n",
       "      <td>DeSantis says he’ll sign order allowing parent...</td>\n",
       "      <td>-0.225019</td>\n",
       "      <td>0.024155</td>\n",
       "      <td>0</td>\n",
       "    </tr>\n",
       "    <tr>\n",
       "      <th>4</th>\n",
       "      <td>Show on the road: In Utah, Florida Gov. Ron De...</td>\n",
       "      <td>-0.266787</td>\n",
       "      <td>-0.260801</td>\n",
       "      <td>0</td>\n",
       "    </tr>\n",
       "    <tr>\n",
       "      <th>...</th>\n",
       "      <td>...</td>\n",
       "      <td>...</td>\n",
       "      <td>...</td>\n",
       "      <td>...</td>\n",
       "    </tr>\n",
       "    <tr>\n",
       "      <th>10448</th>\n",
       "      <td>Jake Ellzey wins Texas special election runoff...</td>\n",
       "      <td>-0.265383</td>\n",
       "      <td>-0.307430</td>\n",
       "      <td>1</td>\n",
       "    </tr>\n",
       "    <tr>\n",
       "      <th>10449</th>\n",
       "      <td>Capitol Riot Officer Shares Voicemail Death Th...</td>\n",
       "      <td>0.072445</td>\n",
       "      <td>0.037108</td>\n",
       "      <td>0</td>\n",
       "    </tr>\n",
       "    <tr>\n",
       "      <th>10450</th>\n",
       "      <td>The Justice Department Won’t Agree To Defend R...</td>\n",
       "      <td>-0.227476</td>\n",
       "      <td>-0.315201</td>\n",
       "      <td>1</td>\n",
       "    </tr>\n",
       "    <tr>\n",
       "      <th>10451</th>\n",
       "      <td>Judge Tells Biden Admin To Stop Releasing COVI...</td>\n",
       "      <td>-0.272227</td>\n",
       "      <td>-0.304839</td>\n",
       "      <td>0</td>\n",
       "    </tr>\n",
       "    <tr>\n",
       "      <th>10452</th>\n",
       "      <td>Ron DeSantis Hosted A Power-Packed Panel On Ma...</td>\n",
       "      <td>-0.272227</td>\n",
       "      <td>-0.276344</td>\n",
       "      <td>0</td>\n",
       "    </tr>\n",
       "  </tbody>\n",
       "</table>\n",
       "<p>915 rows × 4 columns</p>\n",
       "</div>\n",
       "      <button class=\"colab-df-convert\" onclick=\"convertToInteractive('df-554f53ca-1d70-4ef8-a158-13864b13100c')\"\n",
       "              title=\"Convert this dataframe to an interactive table.\"\n",
       "              style=\"display:none;\">\n",
       "        \n",
       "  <svg xmlns=\"http://www.w3.org/2000/svg\" height=\"24px\"viewBox=\"0 0 24 24\"\n",
       "       width=\"24px\">\n",
       "    <path d=\"M0 0h24v24H0V0z\" fill=\"none\"/>\n",
       "    <path d=\"M18.56 5.44l.94 2.06.94-2.06 2.06-.94-2.06-.94-.94-2.06-.94 2.06-2.06.94zm-11 1L8.5 8.5l.94-2.06 2.06-.94-2.06-.94L8.5 2.5l-.94 2.06-2.06.94zm10 10l.94 2.06.94-2.06 2.06-.94-2.06-.94-.94-2.06-.94 2.06-2.06.94z\"/><path d=\"M17.41 7.96l-1.37-1.37c-.4-.4-.92-.59-1.43-.59-.52 0-1.04.2-1.43.59L10.3 9.45l-7.72 7.72c-.78.78-.78 2.05 0 2.83L4 21.41c.39.39.9.59 1.41.59.51 0 1.02-.2 1.41-.59l7.78-7.78 2.81-2.81c.8-.78.8-2.07 0-2.86zM5.41 20L4 18.59l7.72-7.72 1.47 1.35L5.41 20z\"/>\n",
       "  </svg>\n",
       "      </button>\n",
       "      \n",
       "  <style>\n",
       "    .colab-df-container {\n",
       "      display:flex;\n",
       "      flex-wrap:wrap;\n",
       "      gap: 12px;\n",
       "    }\n",
       "\n",
       "    .colab-df-convert {\n",
       "      background-color: #E8F0FE;\n",
       "      border: none;\n",
       "      border-radius: 50%;\n",
       "      cursor: pointer;\n",
       "      display: none;\n",
       "      fill: #1967D2;\n",
       "      height: 32px;\n",
       "      padding: 0 0 0 0;\n",
       "      width: 32px;\n",
       "    }\n",
       "\n",
       "    .colab-df-convert:hover {\n",
       "      background-color: #E2EBFA;\n",
       "      box-shadow: 0px 1px 2px rgba(60, 64, 67, 0.3), 0px 1px 3px 1px rgba(60, 64, 67, 0.15);\n",
       "      fill: #174EA6;\n",
       "    }\n",
       "\n",
       "    [theme=dark] .colab-df-convert {\n",
       "      background-color: #3B4455;\n",
       "      fill: #D2E3FC;\n",
       "    }\n",
       "\n",
       "    [theme=dark] .colab-df-convert:hover {\n",
       "      background-color: #434B5C;\n",
       "      box-shadow: 0px 1px 3px 1px rgba(0, 0, 0, 0.15);\n",
       "      filter: drop-shadow(0px 1px 2px rgba(0, 0, 0, 0.3));\n",
       "      fill: #FFFFFF;\n",
       "    }\n",
       "  </style>\n",
       "\n",
       "      <script>\n",
       "        const buttonEl =\n",
       "          document.querySelector('#df-554f53ca-1d70-4ef8-a158-13864b13100c button.colab-df-convert');\n",
       "        buttonEl.style.display =\n",
       "          google.colab.kernel.accessAllowed ? 'block' : 'none';\n",
       "\n",
       "        async function convertToInteractive(key) {\n",
       "          const element = document.querySelector('#df-554f53ca-1d70-4ef8-a158-13864b13100c');\n",
       "          const dataTable =\n",
       "            await google.colab.kernel.invokeFunction('convertToInteractive',\n",
       "                                                     [key], {});\n",
       "          if (!dataTable) return;\n",
       "\n",
       "          const docLinkHtml = 'Like what you see? Visit the ' +\n",
       "            '<a target=\"_blank\" href=https://colab.research.google.com/notebooks/data_table.ipynb>data table notebook</a>'\n",
       "            + ' to learn more about interactive tables.';\n",
       "          element.innerHTML = '';\n",
       "          dataTable['output_type'] = 'display_data';\n",
       "          await google.colab.output.renderOutput(dataTable, element);\n",
       "          const docLink = document.createElement('div');\n",
       "          docLink.innerHTML = docLinkHtml;\n",
       "          element.appendChild(docLink);\n",
       "        }\n",
       "      </script>\n",
       "    </div>\n",
       "  </div>\n",
       "  "
      ],
      "text/plain": [
       "                                                   title     score  comms_num  \\\n",
       "0      A Right Wing Group in Texas Is Making up Fake ... -0.243095  -0.245258   \n",
       "1      DOJ sues Texas over Gov. Abbott’s order for la... -0.257310  -0.289296   \n",
       "2      From white evangelicals to QAnon believers, wh... -0.262224  -0.263391   \n",
       "3      DeSantis says he’ll sign order allowing parent... -0.225019   0.024155   \n",
       "4      Show on the road: In Utah, Florida Gov. Ron De... -0.266787  -0.260801   \n",
       "...                                                  ...       ...        ...   \n",
       "10448  Jake Ellzey wins Texas special election runoff... -0.265383  -0.307430   \n",
       "10449  Capitol Riot Officer Shares Voicemail Death Th...  0.072445   0.037108   \n",
       "10450  The Justice Department Won’t Agree To Defend R... -0.227476  -0.315201   \n",
       "10451  Judge Tells Biden Admin To Stop Releasing COVI... -0.272227  -0.304839   \n",
       "10452  Ron DeSantis Hosted A Power-Packed Panel On Ma... -0.272227  -0.276344   \n",
       "\n",
       "       title_sentiment  \n",
       "0                    0  \n",
       "1                    0  \n",
       "2                    0  \n",
       "3                    0  \n",
       "4                    0  \n",
       "...                ...  \n",
       "10448                1  \n",
       "10449                0  \n",
       "10450                1  \n",
       "10451                0  \n",
       "10452                0  \n",
       "\n",
       "[915 rows x 4 columns]"
      ]
     },
     "execution_count": 18,
     "metadata": {},
     "output_type": "execute_result"
    }
   ],
   "source": [
    "df"
   ]
  },
  {
   "cell_type": "code",
   "execution_count": null,
   "metadata": {
    "id": "L6jTxxVHkDRD"
   },
   "outputs": [],
   "source": [
    "# use one-hot encoding on timestamp beause it is a string\n",
    "# encode_text_dummy(df, 'timestamp')  "
   ]
  },
  {
   "cell_type": "code",
   "execution_count": null,
   "metadata": {
    "colab": {
     "base_uri": "https://localhost:8080/",
     "height": 424
    },
    "id": "Ln_3NloJmqPo",
    "outputId": "e25fa1a9-1f5c-4cf4-d998-b1477411de50"
   },
   "outputs": [
    {
     "data": {
      "text/html": [
       "\n",
       "  <div id=\"df-e46f9175-0a28-4b5e-8886-e34b361056d1\">\n",
       "    <div class=\"colab-df-container\">\n",
       "      <div>\n",
       "<style scoped>\n",
       "    .dataframe tbody tr th:only-of-type {\n",
       "        vertical-align: middle;\n",
       "    }\n",
       "\n",
       "    .dataframe tbody tr th {\n",
       "        vertical-align: top;\n",
       "    }\n",
       "\n",
       "    .dataframe thead th {\n",
       "        text-align: right;\n",
       "    }\n",
       "</style>\n",
       "<table border=\"1\" class=\"dataframe\">\n",
       "  <thead>\n",
       "    <tr style=\"text-align: right;\">\n",
       "      <th></th>\n",
       "      <th>title</th>\n",
       "      <th>score</th>\n",
       "      <th>comms_num</th>\n",
       "      <th>title_sentiment</th>\n",
       "    </tr>\n",
       "  </thead>\n",
       "  <tbody>\n",
       "    <tr>\n",
       "      <th>0</th>\n",
       "      <td>A Right Wing Group in Texas Is Making up Fake ...</td>\n",
       "      <td>-0.243095</td>\n",
       "      <td>-0.245258</td>\n",
       "      <td>0</td>\n",
       "    </tr>\n",
       "    <tr>\n",
       "      <th>1</th>\n",
       "      <td>DOJ sues Texas over Gov. Abbott’s order for la...</td>\n",
       "      <td>-0.257310</td>\n",
       "      <td>-0.289296</td>\n",
       "      <td>0</td>\n",
       "    </tr>\n",
       "    <tr>\n",
       "      <th>2</th>\n",
       "      <td>From white evangelicals to QAnon believers, wh...</td>\n",
       "      <td>-0.262224</td>\n",
       "      <td>-0.263391</td>\n",
       "      <td>0</td>\n",
       "    </tr>\n",
       "    <tr>\n",
       "      <th>3</th>\n",
       "      <td>DeSantis says he’ll sign order allowing parent...</td>\n",
       "      <td>-0.225019</td>\n",
       "      <td>0.024155</td>\n",
       "      <td>0</td>\n",
       "    </tr>\n",
       "    <tr>\n",
       "      <th>4</th>\n",
       "      <td>Show on the road: In Utah, Florida Gov. Ron De...</td>\n",
       "      <td>-0.266787</td>\n",
       "      <td>-0.260801</td>\n",
       "      <td>0</td>\n",
       "    </tr>\n",
       "    <tr>\n",
       "      <th>...</th>\n",
       "      <td>...</td>\n",
       "      <td>...</td>\n",
       "      <td>...</td>\n",
       "      <td>...</td>\n",
       "    </tr>\n",
       "    <tr>\n",
       "      <th>10448</th>\n",
       "      <td>Jake Ellzey wins Texas special election runoff...</td>\n",
       "      <td>-0.265383</td>\n",
       "      <td>-0.307430</td>\n",
       "      <td>1</td>\n",
       "    </tr>\n",
       "    <tr>\n",
       "      <th>10449</th>\n",
       "      <td>Capitol Riot Officer Shares Voicemail Death Th...</td>\n",
       "      <td>0.072445</td>\n",
       "      <td>0.037108</td>\n",
       "      <td>0</td>\n",
       "    </tr>\n",
       "    <tr>\n",
       "      <th>10450</th>\n",
       "      <td>The Justice Department Won’t Agree To Defend R...</td>\n",
       "      <td>-0.227476</td>\n",
       "      <td>-0.315201</td>\n",
       "      <td>1</td>\n",
       "    </tr>\n",
       "    <tr>\n",
       "      <th>10451</th>\n",
       "      <td>Judge Tells Biden Admin To Stop Releasing COVI...</td>\n",
       "      <td>-0.272227</td>\n",
       "      <td>-0.304839</td>\n",
       "      <td>0</td>\n",
       "    </tr>\n",
       "    <tr>\n",
       "      <th>10452</th>\n",
       "      <td>Ron DeSantis Hosted A Power-Packed Panel On Ma...</td>\n",
       "      <td>-0.272227</td>\n",
       "      <td>-0.276344</td>\n",
       "      <td>0</td>\n",
       "    </tr>\n",
       "  </tbody>\n",
       "</table>\n",
       "<p>915 rows × 4 columns</p>\n",
       "</div>\n",
       "      <button class=\"colab-df-convert\" onclick=\"convertToInteractive('df-e46f9175-0a28-4b5e-8886-e34b361056d1')\"\n",
       "              title=\"Convert this dataframe to an interactive table.\"\n",
       "              style=\"display:none;\">\n",
       "        \n",
       "  <svg xmlns=\"http://www.w3.org/2000/svg\" height=\"24px\"viewBox=\"0 0 24 24\"\n",
       "       width=\"24px\">\n",
       "    <path d=\"M0 0h24v24H0V0z\" fill=\"none\"/>\n",
       "    <path d=\"M18.56 5.44l.94 2.06.94-2.06 2.06-.94-2.06-.94-.94-2.06-.94 2.06-2.06.94zm-11 1L8.5 8.5l.94-2.06 2.06-.94-2.06-.94L8.5 2.5l-.94 2.06-2.06.94zm10 10l.94 2.06.94-2.06 2.06-.94-2.06-.94-.94-2.06-.94 2.06-2.06.94z\"/><path d=\"M17.41 7.96l-1.37-1.37c-.4-.4-.92-.59-1.43-.59-.52 0-1.04.2-1.43.59L10.3 9.45l-7.72 7.72c-.78.78-.78 2.05 0 2.83L4 21.41c.39.39.9.59 1.41.59.51 0 1.02-.2 1.41-.59l7.78-7.78 2.81-2.81c.8-.78.8-2.07 0-2.86zM5.41 20L4 18.59l7.72-7.72 1.47 1.35L5.41 20z\"/>\n",
       "  </svg>\n",
       "      </button>\n",
       "      \n",
       "  <style>\n",
       "    .colab-df-container {\n",
       "      display:flex;\n",
       "      flex-wrap:wrap;\n",
       "      gap: 12px;\n",
       "    }\n",
       "\n",
       "    .colab-df-convert {\n",
       "      background-color: #E8F0FE;\n",
       "      border: none;\n",
       "      border-radius: 50%;\n",
       "      cursor: pointer;\n",
       "      display: none;\n",
       "      fill: #1967D2;\n",
       "      height: 32px;\n",
       "      padding: 0 0 0 0;\n",
       "      width: 32px;\n",
       "    }\n",
       "\n",
       "    .colab-df-convert:hover {\n",
       "      background-color: #E2EBFA;\n",
       "      box-shadow: 0px 1px 2px rgba(60, 64, 67, 0.3), 0px 1px 3px 1px rgba(60, 64, 67, 0.15);\n",
       "      fill: #174EA6;\n",
       "    }\n",
       "\n",
       "    [theme=dark] .colab-df-convert {\n",
       "      background-color: #3B4455;\n",
       "      fill: #D2E3FC;\n",
       "    }\n",
       "\n",
       "    [theme=dark] .colab-df-convert:hover {\n",
       "      background-color: #434B5C;\n",
       "      box-shadow: 0px 1px 3px 1px rgba(0, 0, 0, 0.15);\n",
       "      filter: drop-shadow(0px 1px 2px rgba(0, 0, 0, 0.3));\n",
       "      fill: #FFFFFF;\n",
       "    }\n",
       "  </style>\n",
       "\n",
       "      <script>\n",
       "        const buttonEl =\n",
       "          document.querySelector('#df-e46f9175-0a28-4b5e-8886-e34b361056d1 button.colab-df-convert');\n",
       "        buttonEl.style.display =\n",
       "          google.colab.kernel.accessAllowed ? 'block' : 'none';\n",
       "\n",
       "        async function convertToInteractive(key) {\n",
       "          const element = document.querySelector('#df-e46f9175-0a28-4b5e-8886-e34b361056d1');\n",
       "          const dataTable =\n",
       "            await google.colab.kernel.invokeFunction('convertToInteractive',\n",
       "                                                     [key], {});\n",
       "          if (!dataTable) return;\n",
       "\n",
       "          const docLinkHtml = 'Like what you see? Visit the ' +\n",
       "            '<a target=\"_blank\" href=https://colab.research.google.com/notebooks/data_table.ipynb>data table notebook</a>'\n",
       "            + ' to learn more about interactive tables.';\n",
       "          element.innerHTML = '';\n",
       "          dataTable['output_type'] = 'display_data';\n",
       "          await google.colab.output.renderOutput(dataTable, element);\n",
       "          const docLink = document.createElement('div');\n",
       "          docLink.innerHTML = docLinkHtml;\n",
       "          element.appendChild(docLink);\n",
       "        }\n",
       "      </script>\n",
       "    </div>\n",
       "  </div>\n",
       "  "
      ],
      "text/plain": [
       "                                                   title     score  comms_num  \\\n",
       "0      A Right Wing Group in Texas Is Making up Fake ... -0.243095  -0.245258   \n",
       "1      DOJ sues Texas over Gov. Abbott’s order for la... -0.257310  -0.289296   \n",
       "2      From white evangelicals to QAnon believers, wh... -0.262224  -0.263391   \n",
       "3      DeSantis says he’ll sign order allowing parent... -0.225019   0.024155   \n",
       "4      Show on the road: In Utah, Florida Gov. Ron De... -0.266787  -0.260801   \n",
       "...                                                  ...       ...        ...   \n",
       "10448  Jake Ellzey wins Texas special election runoff... -0.265383  -0.307430   \n",
       "10449  Capitol Riot Officer Shares Voicemail Death Th...  0.072445   0.037108   \n",
       "10450  The Justice Department Won’t Agree To Defend R... -0.227476  -0.315201   \n",
       "10451  Judge Tells Biden Admin To Stop Releasing COVI... -0.272227  -0.304839   \n",
       "10452  Ron DeSantis Hosted A Power-Packed Panel On Ma... -0.272227  -0.276344   \n",
       "\n",
       "       title_sentiment  \n",
       "0                    0  \n",
       "1                    0  \n",
       "2                    0  \n",
       "3                    0  \n",
       "4                    0  \n",
       "...                ...  \n",
       "10448                1  \n",
       "10449                0  \n",
       "10450                1  \n",
       "10451                0  \n",
       "10452                0  \n",
       "\n",
       "[915 rows x 4 columns]"
      ]
     },
     "execution_count": 20,
     "metadata": {},
     "output_type": "execute_result"
    }
   ],
   "source": [
    "df"
   ]
  },
  {
   "cell_type": "code",
   "execution_count": null,
   "metadata": {
    "colab": {
     "base_uri": "https://localhost:8080/"
    },
    "id": "aMBeOdA9l-o-",
    "outputId": "0801ec9b-8395-4224-a90a-367024cc09c0"
   },
   "outputs": [
    {
     "name": "stdout",
     "output_type": "stream",
     "text": [
      "<class 'scipy.sparse.csr.csr_matrix'>\n",
      "[[0. 0. 0. ... 0. 0. 0.]\n",
      " [0. 0. 0. ... 0. 0. 0.]\n",
      " [0. 0. 0. ... 0. 0. 0.]\n",
      " ...\n",
      " [0. 0. 0. ... 0. 0. 0.]\n",
      " [0. 0. 0. ... 0. 0. 0.]\n",
      " [0. 0. 0. ... 0. 0. 0.]]\n"
     ]
    }
   ],
   "source": [
    "# TF-IDF orders words by importance and uniqueness\n",
    "# min_df: ignore terms that have a document frequency < min_df.\n",
    "# max_df: ignore terms that have a document frequency > max_df\n",
    "# max_features: build a vocabulary that only consists of the top max_features ordered by term frequency \n",
    "vectorizer = sk_text.TfidfVectorizer(stop_words='english', min_df=1)\n",
    "\n",
    "matrix = vectorizer.fit_transform(df.title)\n",
    "print(type(matrix))               # Compressed Sparse Row matrix\n",
    "\n",
    "tfidf_data = matrix.toarray()     #  convert it to numpy array\n",
    "\n",
    "print(tfidf_data)"
   ]
  },
  {
   "cell_type": "code",
   "execution_count": null,
   "metadata": {
    "colab": {
     "base_uri": "https://localhost:8080/"
    },
    "id": "imuJH9uSoq52",
    "outputId": "cc3a4241-0d6d-4a78-bb6c-c27bd3478b20"
   },
   "outputs": [
    {
     "name": "stdout",
     "output_type": "stream",
     "text": [
      "['000', '06', '10', '100', '13', '17', '18', '19', '1960s', '1994', '1m', '1st', '1t', '200', '202', '2020', '2021', '2022', '2024', '2030', '21', '22', '220', '228', '230', '25', '26', '27', '289', '30', '31m', '32', '348', '40', '47', '49', '4b', '50', '500', '500k', '51', '550', '5t', '6103', '613', '62', '66', '6m', '6th', '70s', '73', '7m', '9mm', 'abandon', 'abbot', 'abbott', 'ability', 'abortion', 'abortions', 'abrams', 'absolutely', 'abuse', 'abused', 'abuses', 'academic', 'accelerates', 'accent', 'access', 'accessed', 'accidentally', 'accountability', 'accountable', 'accounts', 'accused', 'accuses', 'acknowledge', 'acknowledges', 'act', 'actblue', 'acting', 'action', 'actions', 'activists', 'acts', 'actually', 'adam', 'add', 'adding', 'address', 'adds', 'adequate', 'admin', 'administration', 'admit', 'admits', 'admitted', 'ads', 'adult', 'adults', 'advance', 'advances', 'advice', 'advisers', 'advises', 'advocacy', 'advocates', 'affair', 'affect', 'affordable', 'afghan', 'afghanistan', 'afghans', 'africa', 'ag', 'agencies', 'agenda', 'aggressive', 'agree', 'agreement', 'ahead', 'aid', 'aide', 'aided', 'aides', 'aim', 'aimed', 'aiming', 'aims', 'airplane', 'airstrikes', 'ajit', 'alabama', 'alarming', 'alarmism', 'alarms', 'alaska', 'alexander', 'alexandria', 'alive', 'allegations', 'allege', 'alleged', 'allegedly', 'allies', 'allow', 'allowing', 'ally', 'altercation', 'ambitious', 'amend', 'amendment', 'america', 'american', 'americans', 'amid', 'amnesty', 'amy', 'analysis', 'analytica', 'anchorage', 'andrew', 'angelenos', 'angeles', 'anger', 'angry', 'announce', 'announced', 'announces', 'answer', 'answers', 'anti', 'aoc', 'ap', 'apathetic', 'apologizes', 'apparently', 'appeal', 'appeals', 'appear', 'appears', 'applicants', 'applying', 'appointees', 'approval', 'approve', 'approves', 'arab', 'area', 'areas', 'aren', 'arizona', 'arkansas', 'armor', 'army', 'arrest', 'arrested', 'arrests', 'arrive', 'arrived', 'art', 'artiles', 'ashamed', 'ask', 'asked', 'asking', 'asks', 'assault', 'assaulted', 'assist', 'association', 'attack', 'attacking', 'attacks', 'attempt', 'attempts', 'attention', 'attorney', 'audio', 'audit', 'auditors', 'auditory', 'audits', 'aug', 'august', 'austin', 'authority', 'auto', 'automakers', 'average', 'avoid', 'awarded', 'aware', 'away', 'az', 'azerbaijan', 'backdoor', 'backed', 'backlash', 'backs', 'bad', 'baier', 'bail', 'ballot', 'ballots', 'ban', 'bank', 'banking', 'bankrupt', 'bankruptcy', 'banned', 'banning', 'bans', 'bar', 'barrett', 'barrier', 'bars', 'base', 'battle', 'bds', 'beach', 'beaten', 'beg', 'begin', 'behalf', 'behave', 'belarus', 'believe', 'believers', 'believes', 'ben', 'bench', 'benefiting', 'benefits', 'bennett', 'bernie', 'betrayal', 'betraying', 'better', 'bid', 'biden', 'big', 'biggest', 'bigly', 'biles', 'billion', 'billionaire', 'billions', 'bills', 'bipartisan', 'bipartisanship', 'birth', 'bitcoin', 'black', 'blame', 'blames', 'blaming', 'blank', 'blast', 'blasted', 'blasts', 'bled', 'blinken', 'bliss', 'blistering', 'blitz', 'blm', 'block', 'blocked', 'blocking', 'blocks', 'blow', 'blows', 'blue', 'blunt', 'blunts', 'board', 'body', 'boebert', 'bogus', 'bolster', 'booed', 'book', 'boost', 'boot', 'boots', 'border', 'boss', 'botched', 'boycott', 'brace', 'bracelet', 'branch', 'branding', 'braying', 'break', 'breaking', 'breaks', 'breakthrough', 'bret', 'briefing', 'bring', 'bringing', 'broad', 'broadband', 'bronson', 'brooks', 'brought', 'brown', 'browning', 'brutal', 'budget', 'budowsky', 'buffalo', 'building', 'buildings', 'builds', 'bullshit', 'bureau', 'bureaucracy', 'bush', 'businesses', 'busted', 'buttigieg', 'buy', 'buying', 'byrd', 'caesar', 'california', 'californians', 'called', 'calling', 'calls', 'cambridge', 'came', 'camp', 'campaign', 'campaigns', 'canadians', 'cancel', 'cancellation', 'candidate', 'candidates', 'capacity', 'cape', 'capital', 'capitalism', 'capitol', 'car', 'care', 'carlson', 'carrots', 'carry', 'carrying', 'cars', 'cartoon', 'carved', 'case', 'cases', 'cash', 'casualties', 'cat', 'caucus', 'caught', 'cause', 'causes', 'causing', 'cawthorn', 'cdc', 'celebrates', 'census', 'center', 'central', 'ceos', 'certify', 'chair', 'challenger', 'champion', 'chance', 'change', 'changed', 'changes', 'chaotic', 'charge', 'charging', 'charlie', 'chart', 'chased', 'check', 'checked', 'cheney', 'chief', 'child', 'childhood', 'childless', 'children', 'china', 'choice', 'choose', 'chosen', 'christians', 'church', 'cia', 'ciattarelli', 'cities', 'citizen', 'citizens', 'citizenship', 'city', 'civil', 'civilian', 'claim', 'claims', 'claps', 'clash', 'class', 'clean', 'cleanup', 'clear', 'clears', 'climate', 'clinches', 'cling', 'clintons', 'closer', 'cloture', 'clout', 'club', 'clyde', 'cnn', 'coal', 'coalition', 'cod', 'coddling', 'cohen', 'col', 'cold', 'colleague', 'colleagues', 'collect', 'color', 'column', 'combat', 'come', 'comeback', 'comes', 'coming', 'commands', 'comments', 'commission', 'committee', 'committing', 'communist', 'communities', 'companies', 'compared', 'compares', 'comparing', 'comparison', 'complaining', 'complaints', 'complete', 'complicit', 'compromise', 'concealed', 'concern', 'concerned', 'concerns', 'concha', 'conclude', 'condemning', 'condemns', 'conditions', 'coney', 'conference', 'confident', 'confirm', 'confirmed', 'confrontation', 'confusing', 'confusion', 'congress', 'congressional', 'congressman', 'congressmen', 'congresswoman', 'connecticut', 'connor', 'conor', 'consequences', 'conservative', 'conservatives', 'consider', 'consideration', 'considering', 'conspiculously', 'constitution', 'constitutional', 'consumes', 'consuming', 'contemplates', 'continue', 'contours', 'contract', 'contributions', 'control', 'conversation', 'conveyed', 'convince', 'convincing', 'cop', 'cops', 'cori', 'corners', 'coronavirus', 'corporations', 'corral', 'corrupt', 'corruption', 'cortez', 'cost', 'costing', 'couldn', 'council', 'count', 'countering', 'counties', 'country', 'county', 'coup', 'court', 'courts', 'cover', 'coverage', 'covering', 'covid', 'covidnomics', 'cowardly', 'cowards', 'cox', 'crackdown', 'craft', 'creating', 'credible', 'credit', 'crime', 'crimes', 'crises', 'crisis', 'critic', 'critical', 'criticism', 'criticized', 'criticizes', 'criticizing', 'crossed', 'crow', 'crt', 'crumbling', 'crypto', 'cuba', 'cuban', 'cubans', 'culpability', 'cuomo', 'curb', 'curbing', 'cut', 'cuts', 'cutting', 'cyber', 'cycle', 'cynical', 'daily', 'dakota', 'dalai', 'damn', 'damning', 'danger', 'dangerous', 'dangers', 'dark', 'data', 'daughter', 'david', 'davis', 'day', 'days', 'dc', 'deadline', 'deadly', 'deafening', 'deal', 'deals', 'death', 'debate', 'debates', 'debt', 'decades', 'december', 'decide', 'decision', 'declare', 'declines', 'decrease', 'deeper', 'defeated', 'defeats', 'defend', 'defendants', 'defended', 'defenders', 'defending', 'defends', 'defense', 'defiant', 'deficit', 'defund', 'defy', 'defying', 'delinquent', 'delta', 'delusions', 'dem', 'demand', 'demands', 'democracy', 'democrat', 'democratic', 'democrats', 'demonstrate', 'dems', 'denial', 'denials', 'denounce', 'denver', 'department', 'dependence', 'deportation', 'deported', 'depression', 'deprive', 'dept', 'deputy', 'desantis', 'descent', 'deserve', 'deserves', 'desperately', 'despite', 'details', 'detained', 'detroit', 'deznat', 'dice', 'did', 'didn', 'die', 'difficult', 'dig', 'digit', 'dip', 'direct', 'directly', 'director', 'dirtiest', 'disability', 'disabled', 'disappeared', 'disapprove', 'disarray', 'disaster', 'disbarment', 'disbursed', 'disclose', 'disclosure', 'discussion', 'disdain', 'disgraceful', 'disinformation', 'dismiss', 'dismissed', 'disobedience', 'disputes', 'disrupters', 'distorting', 'district', 'districts', 'disturbing', 'ditch', 'dive', 'diverse', 'divest', 'divide', 'docket', 'doctor', 'doctors', 'document', 'documents', 'dod', 'dodges', 'dodging', 'does', 'doesn', 'dog', 'doing', 'doj', 'dollar', 'dollars', 'don', 'donald', 'donate', 'donors', 'doors', 'doses', 'double', 'doubters', 'doug', 'downplay', 'dozen', 'dozens', 'dps', 'dragged', 'drain', 'drama', 'drive', 'driving', 'drop', 'dropping', 'drops', 'drove', 'ducey', 'dunked', 'duties', 'duty', 'dystopia', 'earlier', 'early', 'earmarks', 'east', 'easy', 'economic', 'economy', 'edge', 'edicts', 'edition', 'editorial', 'education', 'effect', 'effectiveness', 'efficiency', 'effort', 'efforts', 'egged', 'elected', 'election', 'elections', 'electoral', 'electorate', 'electric', 'electricity', 'electrocuted', 'elevator', 'elise', 'elite', 'elizabeth', 'ellzey', 'emails', 'embarrassing', 'embarrassment', 'embattled', 'emergencies', 'emergency', 'emerges', 'emerging', 'emissions', 'emotional', 'emphasize', 'employees', 'employer', 'enact', 'encampments', 'encourage', 'end', 'endangering', 'ending', 'endorse', 'endorsed', 'endorsement', 'endorses', 'ends', 'enforce', 'enforcement', 'enforcing', 'engage', 'enjoy', 'entities', 'environmental', 'equal', 'era', 'erdogan', 'eric', 'esper', 'essentially', 'establish', 'ethics', 'europeans', 'evacuate', 'evacuated', 'evading', 'evangelicals', 'event', 'events', 'eventually', 'eviction', 'evictions', 'evidence', 'evs', 'ex', 'exceed', 'exceeding', 'exceeds', 'executive', 'exemptions', 'exhibit', 'exist', 'expand', 'expanded', 'expands', 'expansion', 'expect', 'expectations', 'expedited', 'expert', 'experts', 'expiration', 'expire', 'expires', 'expiring', 'explain', 'explicit', 'exploring', 'explosion', 'exposed', 'exposes', 'extend', 'extending', 'extension', 'extra', 'extreme', 'extremism', 'eyes', 'fables', 'face', 'facebook', 'faced', 'faces', 'facility', 'facing', 'fact', 'factory', 'facts', 'fail', 'failed', 'failing', 'fails', 'failure', 'fairness', 'faith', 'fake', 'fall', 'falls', 'false', 'families', 'family', 'far', 'farms', 'farmworker', 'fascism', 'fast', 'father', 'faucian', 'favor', 'favored', 'fcc', 'fear', 'feared', 'featured', 'fed', 'federal', 'fellow', 'felony', 'fetterman', 'field', 'fiery', 'fifth', 'fight', 'fighting', 'filed', 'filibuster', 'filthy', 'final', 'finally', 'findings', 'finds', 'fine', 'fines', 'firm', 'fizzles', 'flag', 'flare', 'flawed', 'flee', 'fleet', 'flip', 'floats', 'flooded', 'floor', 'florida', 'floyd', 'flynn', 'focus', 'foes', 'follow', 'followed', 'following', 'forashli', 'force', 'forced', 'foreign', 'forever', 'forge', 'forgive', 'form', 'formula', 'fort', 'forthcoming', 'forward', 'fossil', 'fox', 'frankly', 'fraud', 'free', 'freedom', 'freeze', 'friday', 'fried', 'frustrate', 'frustrated', 'frustrates', 'frustration', 'fuel', 'fuels', 'fully', 'fulton', 'fund', 'funder', 'funding', 'funds', 'fuse', 'future', 'gaetz', 'gaining', 'gallup', 'game', 'garland', 'gaslight', 'gatecrashed', 'gauntlet', 'gavin', 'gaza', 'gdp', 'general', 'georgia', 'germany', 'gerrymandering', 'gets', 'getting', 'ghost', 'gianforte', 'giant', 'ginsburg', 'giuliani', 'given', 'gives', 'glenn', 'globe', 'glock', 'goal', 'goals', 'god', 'gods', 'goes', 'gohmert', 'going', 'good', 'goods', 'gop', 'gosar', 'got', 'gotten', 'gov', 'govern', 'governing', 'government', 'governments', 'governor', 'governors', 'graham', 'granted', 'grants', 'grass', 'gray', 'great', 'green', 'greene', 'greg', 'grills', 'grip', 'ground', 'grounds', 'group', 'groups', 'grow', 'growing', 'growth', 'guaranteed', 'guard', 'guards', 'guatemala', 'guests', 'guidance', 'guidelines', 'guilty', 'gun', 'guv', 'guy', 'haaland', 'hacked', 'hackers', 'half', 'halt', 'hand', 'handed', 'handling', 'hands', 'handwritten', 'happens', 'happy', 'harassment', 'hard', 'harder', 'harris', 'harrowing', 'hasty', 'hate', 'havoc', 'hayes', 'head', 'headlines', 'health', 'healthcare', 'healthy', 'heaps', 'hearing', 'hearings', 'hearted', 'heatwave', 'heckled', 'hedging', 'held', 'helicopter', 'hell', 'help', 'helped', 'herschel', 'hesitancy', 'high', 'higher', 'highlights', 'highly', 'hilarious', 'hill', 'hilton', 'hints', 'hired', 'historic', 'history', 'hitman', 'hits', 'hitting', 'hold', 'holding', 'holds', 'holocaust', 'home', 'homeless', 'homelessness', 'homeowners', 'homes', 'honored', 'honoring', 'hook', 'hope', 'hoped', 'hopes', 'horizon', 'hospitalizations', 'hospitals', 'hosted', 'hostility', 'hot', 'house', 'households', 'housing', 'huddle', 'human', 'humanity', 'hunter', 'hurdle', 'hurt', 'husband', 'hutchinson', 'hyper', 'hyperbolic', 'hypocrisy', 'idea', 'ideological', 'ideology', 'idiots', 'ignites', 'ignore', 'ignored', 'ignores', 'iii', 'ilhan', 'illegal', 'illegally', 'illinois', 'illness', 'immigrant', 'immigrants', 'immigration', 'immune', 'impact', 'impeachment', 'impending', 'implore', 'implores', 'impose', 'imposing', 'inauguration', 'incarceration', 'incentive', 'incentives', 'incentivize', 'inch', 'incited', 'inciting', 'included', 'includes', 'including', 'income', 'incompetent', 'increase', 'increased', 'increases', 'increasingly', 'incredibly', 'india', 'indictment', 'indifference', 'indigenous', 'indoor', 'indoors', 'industry', 'ineffective', 'infected', 'infections', 'inflation', 'influence', 'information', 'infrastructure', 'ingraham', 'initiative', 'initiatives', 'injects', 'inquiry', 'insecurity', 'inside', 'insider', 'insiders', 'insists', 'instead', 'instigating', 'instructs', 'insurrection', 'insurrectionists', 'insurrections', 'integrity', 'intellectual', 'interference', 'interfering', 'internal', 'internet', 'interpreters', 'interrupted', 'intervene', 'interviewing', 'intimidation', 'intra', 'intricate', 'intrigue', 'introduce', 'introduces', 'invest', 'investigate', 'investigates', 'investigation', 'investigations', 'investigators', 'investment', 'investors', 'involved', 'iraq', 'irresponsible', 'irs', 'island', 'isn', 'isps', 'israel', 'israeli', 'issue', 'issues', 'issuing', 'itching', 'item', 'jackson', 'jail', 'jake', 'james', 'jamie', 'jan', 'january', 'jd', 'jeopardizing', 'jeopardy', 'jerry', 'jewell', 'jewish', 'jews', 'jim', 'job', 'jobless', 'jobs', 'joe', 'johnson', 'join', 'jones', 'jordan', 'journalists', 'judge', 'just', 'justice', 'justices', 'kamala', 'karen', 'keeping', 'keeps', 'ken', 'kentuckians', 'kentucky', 'kevin', 'key', 'khan', 'khizr', 'kickbacks', 'kicked', 'kids', 'kill', 'killed', 'kinzinger', 'kirk', 'kiss', 'klobuchar', 'knocking', 'know', 'known', 'kraken', 'kyrsten', 'la', 'labor', 'lack', 'lacks', 'ladies', 'lama', 'lamb', 'land', 'lander', 'landlords', 'lankford', 'lap', 'large', 'largely', 'largest', 'las', 'lash', 'lashes', 'late', 'latest', 'latino', 'laud', 'launch', 'launches', 'laundering', 'laura', 'lauren', 'law', 'lawless', 'lawmaker', 'lawmakers', 'laws', 'lawsuit', 'lawyer', 'lawyers', 'lays', 'lead', 'leader', 'leaders', 'leadership', 'leading', 'leah', 'leak', 'learn', 'leave', 'leaving', 'led', 'lee', 'left', 'legal', 'legislation', 'legislative', 'legislators', 'legislature', 'lemon', 'let', 'lets', 'letters', 'letting', 'levels', 'lgbtq', 'liable', 'liaison', 'liberal', 'liberals', 'libs', 'lie', 'lies', 'lieu', 'life', 'lightfoot', 'like', 'likely', 'likens', 'liking', 'limits', 'lindell', 'lindsey', 'line', 'lines', 'lingering', 'link', 'linked', 'little', 'lived', 'lives', 'liz', 'll', 'loaded', 'loan', 'loans', 'lobby', 'local', 'locked', 'lofty', 'logic', 'long', 'longest', 'longshot', 'looked', 'looks', 'loom', 'looming', 'looms', 'lori', 'los', 'lose', 'loses', 'losing', 'loss', 'losses', 'lost', 'lot', 'loudest', 'louis', 'loving', 'low', 'lower', 'loyalists', 'loyalty', 'lt', 'luck', 'lunar', 'lying', 'machinations', 'mack', 'madison', 'magazine', 'maine', 'maintains', 'major', 'majority', 'make', 'makes', 'making', 'manchin', 'mandate', 'mandates', 'mandating', 'mandatory', 'mantra', 'manufacture', 'manufacturing', 'march', 'marco', 'maricopa', 'marijuana', 'marjorie', 'mark', 'mask', 'masking', 'maskless', 'masks', 'massie', 'master', 'mate', 'matt', 'matter', 'mayor', 'mayors', 'mccarthy', 'mcconnell', 'mckinley', 'meals', 'mean', 'means', 'measure', 'measures', 'media', 'medicaid', 'medical', 'medicare', 'meet', 'meeting', 'meets', 'megadonor', 'meltdown', 'member', 'members', 'meme', 'memo', 'memos', 'men', 'mental', 'merchandise', 'merrick', 'message', 'messaging', 'met', 'methods', 'mexican', 'mexico', 'michael', 'michigan', 'middle', 'midterm', 'midterms', 'migrant', 'migrants', 'migration', 'mike', 'mile', 'mileage', 'military', 'milley', 'million', 'millions', 'minds', 'minnesota', 'minute', 'mirage', 'misconduct', 'misdemeanor', 'misinformation', 'mismanaged', 'missing', 'mission', 'mississippi', 'missouri', 'missteps', 'mistake', 'mitch', 'mitigation', 'mlk', 'mln', 'mo', 'mob', 'mock', 'mocked', 'mocks', 'modern', 'mom', 'moment', 'momentum', 'money', 'monitor', 'montana', 'month', 'monthly', 'months', 'moratorium', 'morning', 'moron', 'motion', 'motivated', 'mounts', 'moves', 'moving', 'ms', 'multi', 'muster', 'mystery', 'nadler', 'nancy', 'narrows', 'nasa', 'nation', 'national', 'nationwide', 'native', 'nazi', 'nba', 'nc', 'near', 'nearly', 'nears', 'necessary', 'need', 'needed', 'needlessly', 'needs', 'negative', 'negatively', 'negotiators', 'nervous', 'nevada', 'new', 'newly', 'news', 'newsom', 'nice', 'nigeria', 'nina', 'nixon', 'noble', 'noem', 'noisy', 'nominate', 'nominates', 'nonprofits', 'norc', 'nord', 'normal', 'nose', 'notes', 'notice', 'noticed', 'number', 'nursing', 'oan', 'obama', 'objects', 'obscene', 'obtains', 'ocasio', 'occupied', 'occurred', 'odds', 'offenders', 'offer', 'office', 'officer', 'officers', 'offices', 'official', 'officials', 'ohio', 'ok', 'oklahoma', 'old', 'omar', 'omen', 'ones', 'ongoing', 'onus', 'open', 'opening', 'openings', 'openly', 'operatives', 'operator', 'opinion', 'opponent', 'opportunity', 'oppose', 'opposes', 'opposing', 'opposition', 'oppression', 'optimistic', 'optional', 'order', 'ordered', 'ordering', 'orders', 'ordinance', 'oregon', 'origin', 'outbreak', 'outlaws', 'outlines', 'outmaneuvers', 'outrage', 'outside', 'outweighs', 'overhaul', 'override', 'overrule', 'overseeing', 'overshadowed', 'overturn', 'owe', 'owns', 'pac', 'pace', 'package', 'packed', 'pact', 'page', 'pageantry', 'pai', 'paid', 'painful', 'palin', 'pan', 'pandemic', 'panel', 'paper', 'parents', 'parroting', 'partisan', 'partisanship', 'party', 'pass', 'passed', 'passes', 'past', 'patent', 'pathway', 'patriotic', 'patriotism', 'patriots', 'patrol', 'paul', 'pause', 'paxton', 'pay', 'paying', 'payment', 'payments', 'peaceful', 'pelosi', 'pennsylvania', 'people', 'peppered', 'perceived', 'percent', 'performance', 'peril', 'perilous', 'permanently', 'permits', 'persecution', 'persist', 'person', 'personal', 'pete', 'petty', 'pharma', 'phenomenon', 'philippines', 'phlebotomist', 'photo', 'physician', 'pick', 'picks', 'picture', 'pitch', 'place', 'plan', 'plane', 'planned', 'planning', 'plans', 'plant', 'plants', 'platforms', 'play', 'playbook', 'players', 'playing', 'plea', 'pleading', 'pleads', 'pledge', 'plot', 'plus', 'point', 'poised', 'poisoned', 'poisonous', 'poland', 'polarization', 'police', 'policeman', 'policies', 'policy', 'political', 'politicization', 'politico', 'politics', 'poll', 'polled', 'polluting', 'pony', 'poor', 'poorest', 'population', 'positive', 'possible', 'post', 'posts', 'posture', 'potentially', 'potus', 'pours', 'poverty', 'powell', 'power', 'powerful', 'pragmatic', 'praising', 'pre', 'precedent', 'precipice', 'predicts', 'prepare', 'preparing', 'presence', 'presidency', 'president', 'presidential', 'press', 'pressed', 'presser', 'presses', 'pressley', 'pressure', 'pressured', 'preventing', 'price', 'primary', 'prison', 'prisons', 'private', 'privately', 'privilege', 'pro', 'probability', 'probably', 'probe', 'probes', 'problem', 'procedural', 'process', 'prodemocracy', 'profiting', 'program', 'programs', 'progress', 'progressive', 'progressives', 'prohibiting', 'project', 'projected', 'projects', 'prominent', 'promised', 'promote', 'promoting', 'promotion', 'prompted', 'prompts', 'proposal', 'proposed', 'proposes', 'prosecutors', 'prospects', 'protect', 'protection', 'protections', 'protest', 'protester', 'protesters', 'protests', 'prove', 'proves', 'provide', 'providence', 'psychologist', 'public', 'pull', 'pulls', 'punch', 'punches', 'pundits', 'punished', 'pure', 'pursuant', 'push', 'pushback', 'pushed', 'pushing', 'pussies', 'putin', 'putting', 'pyrrhic', 'q2', 'qanon', 'qualify', 'quarter', 'question', 'questioned', 'questions', 'quick', 'quietly', 'quit', 'quorum', 'race', 'racial', 'racism', 'racist', 'racketeering', 'radio', 'rafters', 'rage', 'rails', 'raise', 'raises', 'raising', 'rally', 'ramifications', 'ramp', 'ramps', 'ranches', 'rancor', 'rand', 'ranked', 'rare', 'raskin', 'rate', 'rates', 'rating', 'ratings', 'ratio', 'reach', 'reached', 'reaches', 'reaction', 'reacts', 'read', 'readies', 'ready', 'reagan', 'real', 'reality', 'really', 'reason', 'reasons', 'reassert', 'rebranded', 'rebranding', 'rebuffs', 'rebukes', 'recall', 'recalled', 'recalling', 'received', 'receiving', 'recent', 'recess', 'recipes', 'reckless', 'recommendations', 'recommends', 'reconciliation', 'record', 'records', 'recount', 'recriminations', 'red', 'reduce', 'referrals', 'reform', 'refugees', 'refusal', 'refuse', 'refused', 'refusers', 'regain', 'regarding', 'regulate', 'regulation', 'regulations', 'reimposed', 'reinstates', 'reinstituted', 'reintroduction', 'rejects', 'related', 'release', 'released', 'releases', 'releasing', 'relief', 'religion', 'religious', 'relisting', 'remain', 'remarks', 'removal', 'removes', 'rent', 'rental', 'renter', 'renters', 'rep', 'repeat', 'replace', 'report', 'reported', 'reportedly', 'reporter', 'reporters', 'reports', 'represent', 'representation', 'representative', 'representatives', 'republican', 'republicans', 'request', 'requests', 'require', 'required', 'requirement', 'requirements', 'requires', 'requiring', 'rescind', 'rescue', 'research', 'researchers', 'residents', 'resign', 'resigned', 'resigning', 'resistance', 'resisting', 'resolve', 'resources', 'responds', 'response', 'responsibility', 'rest', 'restart', 'restitution', 'restore', 'restrict', 'restricting', 'restrictions', 'result', 'results', 'resume', 'resumption', 'retake', 'retired', 'return', 'returned', 'returns', 'revamp', 'reveals', 'revelation', 'reversal', 'reverses', 'reversing', 'revised', 'revisiting', 'revival', 'revolt', 'rewrite', 'rhetoric', 'rhode', 'right', 'rights', 'riot', 'rioter', 'rioters', 'riots', 'rip', 'rips', 'rise', 'rising', 'risk', 'risking', 'risks', 'rival', 'rnc', 'road', 'robin', 'robust', 'rock', 'roe', 'role', 'roles', 'roll', 'rollback', 'rollout', 'rolls', 'ron', 'root', 'rose', 'rosen', 'rough', 'roughly', 'roundtable', 'rourke', 'routers', 'row', 'rpt', 'rubber', 'rubio', 'rudy', 'rule', 'rules', 'ruling', 'run', 'rundown', 'running', 'runoff', 'russia', 'russians', 'ryan', 'sabotage', 'sacramento', 'sacrifice', 'safety', 'saga', 'said', 'salary', 'sale', 'sales', 'sanctions', 'sanders', 'sanity', 'sarah', 'saturday', 'save', 'say', 'saying', 'says', 'scaled', 'scales', 'scalise', 'scandal', 'scary', 'scheme', 'schiff', 'school', 'schools', 'schumer', 'science', 'scope', 'scorches', 'scramble', 'scrambles', 'scuttle', 'scuttles', 'search', 'searing', 'seat', 'sec', 'second', 'secret', 'secretary', 'secretly', 'security', 'sedition', 'seeing', 'seek', 'seeking', 'seeks', 'seen', 'sees', 'segregation', 'select', 'self', 'selling', 'sellout', 'selves', 'semitic', 'semitism', 'sen', 'senate', 'senator', 'senators', 'send', 'sending', 'sends', 'sent', 'separates', 'september', 'services', 'session', 'set', 'severe', 'sex', 'sexual', 'shadow', 'shadowy', 'sham', 'shameful', 'shape', 'share', 'shares', 'sheet', 'sheila', 'shelter', 'shield', 'shift', 'shifting', 'shifts', 'shiny', 'ship', 'shocking', 'shontel', 'shooting', 'shoots', 'short', 'shot', 'shouldn', 'shouting', 'showboating', 'showed', 'showing', 'shown', 'shows', 'shuttered', 'sidney', 'sign', 'signal', 'signals', 'signature', 'significant', 'signs', 'silence', 'simone', 'sinema', 'single', 'singular', 'sitting', 'situation', 'size', 'skeptic', 'skepticism', 'skyrocket', 'skyrocketing', 'slain', 'slam', 'slammed', 'slams', 'slashed', 'slave', 'sleeps', 'slides', 'slip', 'slips', 'slow', 'slurs', 'small', 'smallest', 'social', 'socialism', 'socialist', 'socialists', 'soft', 'solarwinds', 'solutions', 'solve', 'somalia', 'son', 'soon', 'sorry', 'soul', 'souls', 'source', 'sources', 'south', 'southern', 'spanish', 'spar', 'sparks', 'spat', 'spawned', 'speaker', 'speaking', 'speaks', 'special', 'specific', 'speculation', 'speech', 'spend', 'spending', 'spike', 'spin', 'spins', 'split', 'spoke', 'spokeswoman', 'spread', 'spreading', 'spreads', 'spur', 'st', 'stacey', 'staff', 'staffer', 'staffers', 'stage', 'stages', 'stalled', 'stamp', 'stance', 'standards', 'stands', 'star', 'starlink', 'starr', 'start', 'starting', 'starts', 'state', 'statement', 'states', 'stations', 'statues', 'status', 'statutes', 'stay', 'staying', 'steal', 'stealers', 'stealing', 'steele', 'stefanik', 'stem', 'step', 'steps', 'sticking', 'sticks', 'stirs', 'stitt', 'stock', 'stokes', 'stolen', 'stop', 'stopping', 'story', 'strange', 'strategic', 'strategy', 'stream', 'streets', 'strict', 'strike', 'strikes', 'striking', 'strip', 'stripped', 'stronger', 'struck', 'struggled', 'struggling', 'student', 'study', 'stunning', 'stunt', 'subcommittee', 'submit', 'subpoena', 'subpoenas', 'succeed', 'suddenly', 'sue', 'sued', 'sues', 'suffers', 'sufficient', 'suggest', 'suing', 'suit', 'summer', 'support', 'supporters', 'supports', 'suppression', 'supreme', 'sure', 'surge', 'surges', 'surging', 'surpasses', 'surveillance', 'susan', 'suspect', 'suspects', 'suspended', 'suspends', 'sviatlana', 'swalwell', 'swastika', 'sway', 'swearing', 'sweeping', 'swiftly', 'switching', 'symbolic', 'synthetic', 'syria', 'systemic', 'tag', 'takeaways', 'takedown', 'takeover', 'takes', 'taking', 'tale', 'taliban', 'talk', 'talked', 'talking', 'talks', 'tangles', 'tanking', 'target', 'targeted', 'targeting', 'targets', 'task', 'taught', 'tax', 'taxes', 'taylor', 'teachers', 'team', 'tear', 'tech', 'technically', 'technology', 'ted', 'tell', 'telling', 'tells', 'temperatures', 'tempers', 'tenants', 'tennessee', 'tens', 'tense', 'tent', 'term', 'terrible', 'terrifying', 'terrorist', 'terrorists', 'terrorizing', 'test', 'tester', 'testifies', 'testify', 'testifying', 'testimonies', 'testimony', 'testing', 'tests', 'texas', 'thanks', 'theatre', 'theory', 'thing', 'things', 'think', 'thinks', 'thom', 'thomas', 'thompson', 'thread', 'threat', 'threaten', 'threatened', 'threatening', 'threatens', 'threats', 'throwing', 'throws', 'thunderous', 'thursday', 'thwart', 'thwarted', 'tied', 'tighter', 'tillis', 'time', 'tinderbox', 'tip', 'tipped', 'tired', 'today', 'told', 'tonight', 'took', 'tore', 'total', 'toting', 'tougher', 'toughness', 'tourist', 'tourists', 'tout', 'touts', 'town', 'towns', 'toying', 'toyota', 'track', 'traction', 'trades', 'traditional', 'trailer', 'trails', 'trans', 'transform', 'transformation', 'transit', 'transmission', 'transparency', 'transparently', 'transport', 'transportation', 'trauma', 'travel', 'treason', 'treasury', 'trespassing', 'trial', 'trials', 'tribe', 'tried', 'tries', 'triggered', 'trillion', 'trip', 'trln', 'troopers', 'troops', 'troubled', 'troubles', 'trucks', 'truly', 'trump', 'trumpers', 'trumpworld', 'trust', 'truth', 'trying', 'tsikhanouskaya', 'tucker', 'tuesday', 'tuning', 'tunisia', 'turbulent', 'turkey', 'turn', 'turned', 'turner', 'turning', 'turns', 'tv', 'tweet', 'tweeted', 'tweeting', 'tweets', 'twice', 'twitter', 'tx', 'type', 'ukraine', 'unambiguous', 'uncertainties', 'unconscionable', 'undercut', 'undergo', 'understanding', 'undo', 'undocumented', 'undone', 'uneasy', 'unfortunately', 'unhoused', 'uniformity', 'unilaterally', 'union', 'united', 'university', 'unknown', 'unlawful', 'unleashed', 'unless', 'unlikely', 'unpacking', 'unprecedented', 'unraveling', 'unspent', 'unswayed', 'unusual', 'unvaccinated', 'unveils', 'update', 'upheaval', 'upset', 'urge', 'urged', 'urgency', 'urges', 'urging', 'use', 'used', 'using', 'usual', 'utah', 'uw', 'va', 'vacation', 'vaccinate', 'vaccinated', 'vaccination', 'vaccinations', 'vaccine', 'vaccines', 'val', 'vance', 'variant', 'vax', 'vaxxers', 've', 'vegas', 'vehicle', 'vehicles', 'vengeance', 'verde', 'veto', 'victims', 'victory', 'view', 'viewed', 'views', 'vindman', 'violating', 'violation', 'violent', 'violin', 'virginia', 'virus', 'visa', 'visas', 'vise', 'visit', 'visitors', 'voicemail', 'vos', 'vote', 'voted', 'voter', 'voters', 'votes', 'voting', 'vows', 'vs', 'vulnerability', 'wa', 'wade', 'wait', 'waiting', 'wake', 'walk', 'walker', 'walks', 'want', 'wanted', 'wants', 'war', 'warn', 'warned', 'warning', 'warns', 'warren', 'wars', 'washington', 'wasn', 'watch', 'watchdog', 'watching', 'water', 'wave', 'waves', 'way', 'ways', 'weapon', 'weapons', 'wear', 'wearing', 'wednesday', 'week', 'weekend', 'weekly', 'weighing', 'weighs', 'welcome', 'welcomes', 'went', 'west', 'western', 'wheeler', 'wheels', 'whine', 'whistle', 'whistleblowers', 'white', 'whitehouse', 'wider', 'widespread', 'widow', 'wild', 'wildfire', 'wildfires', 'willing', 'win', 'wing', 'winning', 'wins', 'wisconsin', 'withdrawal', 'withholding', 'witnesses', 'witnessing', 'wolves', 'woman', 'women', 'won', 'word', 'words', 'wore', 'work', 'worker', 'workers', 'working', 'works', 'world', 'worried', 'worries', 'worry', 'worst', 'worth', 'wouldn', 'wreaks', 'wrestler', 'wretched', 'wright', 'wrong', 'wyden', 'xeriscaping', 'xinjiang', 'year', 'years', 'yelling', 'yellow', 'yep', 'yes', 'yesterday', 'yikes', 'york', 'yorkers', 'young', 'youngkin', 'youth', 'zero']\n"
     ]
    },
    {
     "name": "stderr",
     "output_type": "stream",
     "text": [
      "/usr/local/lib/python3.7/dist-packages/sklearn/utils/deprecation.py:87: FutureWarning: Function get_feature_names is deprecated; get_feature_names is deprecated in 1.0 and will be removed in 1.2. Please use get_feature_names_out instead.\n",
      "  warnings.warn(msg, category=FutureWarning)\n"
     ]
    }
   ],
   "source": [
    "print(vectorizer.get_feature_names())"
   ]
  },
  {
   "cell_type": "code",
   "execution_count": null,
   "metadata": {
    "id": "_GIz2l9kAUrp"
   },
   "outputs": [],
   "source": [
    "df = pd.concat([pd.DataFrame(tfidf_data), df], axis=1)"
   ]
  },
  {
   "cell_type": "code",
   "execution_count": null,
   "metadata": {
    "id": "4MYrCBQlqDj1"
   },
   "outputs": [],
   "source": [
    "df.drop('title', axis = 1, inplace = True)"
   ]
  },
  {
   "cell_type": "code",
   "execution_count": null,
   "metadata": {
    "colab": {
     "base_uri": "https://localhost:8080/"
    },
    "id": "Zv5BUO60qitm",
    "outputId": "954aac1d-55f7-4bfc-ffe2-81a9cc0dad9b"
   },
   "outputs": [
    {
     "name": "stdout",
     "output_type": "stream",
     "text": [
      "Target type: float64\n",
      "Classifying correctly!\n"
     ]
    }
   ],
   "source": [
    "x, y = to_xy(df, 'title_sentiment')\n",
    "x_train, x_test, y_train, y_test = train_test_split(x, y, test_size=0.25, random_state=42)"
   ]
  },
  {
   "cell_type": "code",
   "execution_count": null,
   "metadata": {
    "id": "MYDk79JQzI74"
   },
   "outputs": [],
   "source": [
    ""
   ]
  },
  {
   "cell_type": "code",
   "execution_count": null,
   "metadata": {
    "id": "VpilPXzmsDvv"
   },
   "outputs": [],
   "source": [
    ""
   ]
  },
  {
   "cell_type": "code",
   "execution_count": null,
   "metadata": {
    "id": "VTF2U6g9ew6k"
   },
   "outputs": [],
   "source": [
    ""
   ]
  },
  {
   "cell_type": "markdown",
   "metadata": {
    "id": "iMywgsy4L-6C"
   },
   "source": [
    "# CNN \n"
   ]
  },
  {
   "cell_type": "code",
   "execution_count": null,
   "metadata": {
    "id": "fUpiWez8MP8e"
   },
   "outputs": [],
   "source": [
    "#The SentimentIntensityAnalyzer should spit out \"good\" or \"bad\" \n",
    "#These two values will be hot encoded into 1 or 0.\n",
    "#The Y column from Sentiment will be used to compare to\n",
    "#A CNN and a Connected Neural Network \n"
   ]
  },
  {
   "cell_type": "code",
   "execution_count": null,
   "metadata": {
    "colab": {
     "base_uri": "https://localhost:8080/"
    },
    "id": "zwINgiIQDaxx",
    "outputId": "76ae2890-af26-4a90-87ca-9413addd272a"
   },
   "outputs": [
    {
     "data": {
      "text/plain": [
       "(1798, 1, 2777, 1)"
      ]
     },
     "execution_count": 27,
     "metadata": {},
     "output_type": "execute_result"
    }
   ],
   "source": [
    "# convert x to data that will fit in a CNN properly\n",
    "cnn_x = x.reshape((x.shape[0], 1, x.shape[1], 1))\n",
    "cnn_x.shape"
   ]
  },
  {
   "cell_type": "code",
   "execution_count": null,
   "metadata": {
    "id": "SWHvqffMEJvY"
   },
   "outputs": [],
   "source": [
    "# split into train/test\n",
    "x_train, x_test, y_train, y_test = train_test_split(cnn_x, y, test_size=0.25, random_state=42)"
   ]
  },
  {
   "cell_type": "code",
   "execution_count": null,
   "metadata": {
    "colab": {
     "base_uri": "https://localhost:8080/"
    },
    "id": "VcpkxUlhENXT",
    "outputId": "c5cf5863-19b1-43ae-8cf8-e96bddba8489"
   },
   "outputs": [
    {
     "name": "stdout",
     "output_type": "stream",
     "text": [
      "Epoch 1/10\n",
      "43/43 - 12s - loss: nan - val_loss: nan - 12s/epoch - 276ms/step\n",
      "Epoch 2/10\n",
      "43/43 - 2s - loss: nan - val_loss: nan - 2s/epoch - 40ms/step\n",
      "Epoch 3/10\n",
      "43/43 - 2s - loss: nan - val_loss: nan - 2s/epoch - 43ms/step\n",
      "Epoch 4/10\n",
      "43/43 - 2s - loss: nan - val_loss: nan - 2s/epoch - 43ms/step\n",
      "Epoch 5/10\n",
      "43/43 - 2s - loss: nan - val_loss: nan - 2s/epoch - 43ms/step\n",
      "Epoch 6/10\n",
      "43/43 - 2s - loss: nan - val_loss: nan - 2s/epoch - 40ms/step\n",
      "Epoch 7/10\n",
      "43/43 - 2s - loss: nan - val_loss: nan - 2s/epoch - 40ms/step\n",
      "Epoch 8/10\n",
      "43/43 - 2s - loss: nan - val_loss: nan - 2s/epoch - 41ms/step\n",
      "Epoch 9/10\n",
      "43/43 - 2s - loss: nan - val_loss: nan - 2s/epoch - 41ms/step\n",
      "Epoch 10/10\n",
      "43/43 - 2s - loss: nan - val_loss: nan - 2s/epoch - 40ms/step\n"
     ]
    },
    {
     "data": {
      "text/plain": [
       "<keras.callbacks.History at 0x7f41c9598cd0>"
      ]
     },
     "execution_count": 29,
     "metadata": {},
     "output_type": "execute_result"
    }
   ],
   "source": [
    "cnn = Sequential()\n",
    "# 64 filters of size 1 x 2. Each filter moves 2 pixels at a time \n",
    "cnn.add(Conv2D(64, kernel_size=(1, 2), strides=(2, 2),\n",
    "                 activation='relu',\n",
    "                 input_shape=x_train.shape[1:]))\n",
    "\n",
    "# selects the max element from the region of the feature map covered by filter (filter size 1 x 2)\n",
    "# the output will be a new feature map of the most prominent features of the previous feature map. helps prevent overfitting \n",
    "cnn.add(MaxPooling2D(pool_size=(1,2))) \n",
    "\n",
    "cnn.add(Conv2D(x_train.shape[2], kernel_size=(1, 2), strides=(1, 1),\n",
    "                 activation='relu'))\n",
    "cnn.add(MaxPooling2D(pool_size=(1,2)))\n",
    "    \n",
    "    \n",
    "cnn.add(Flatten()) # convert input to 1D \n",
    "cnn.add(Dense(25, activation=\"relu\")) # add fully connected layer\n",
    "cnn.add(Dropout(0.5)) # prevent overfitting \n",
    "cnn.add(Dense(2, activation=\"softmax\")) # output layer, 2 neurons because 2 possible classes \n",
    "\n",
    "# define optimizer and objective, compile cnn\n",
    "cnn.compile(loss=\"categorical_crossentropy\", optimizer=\"adam\")\n",
    "\n",
    "# train the cnn model\n",
    "cnn.fit(x_train, y_train,     \n",
    "          epochs=10,\n",
    "          verbose=2,\n",
    "          validation_data=(x_test, y_test))"
   ]
  },
  {
   "cell_type": "code",
   "execution_count": null,
   "metadata": {
    "id": "hfnacjdKI4iQ"
   },
   "outputs": [],
   "source": [
    "y_true = np.argmax(y_test, axis=1)\n",
    "pred=cnn.predict(x_test)\n",
    "pred = np.argmax(pred, axis=1)"
   ]
  },
  {
   "cell_type": "code",
   "execution_count": null,
   "metadata": {
    "colab": {
     "base_uri": "https://localhost:8080/"
    },
    "id": "QDrDvwGZJVSt",
    "outputId": "2c6fe126-92a6-40a9-a18a-12721c7e77a5"
   },
   "outputs": [
    {
     "name": "stdout",
     "output_type": "stream",
     "text": [
      "Precision score: 0.7665975308641976\n",
      "Recall score: 0.8755555555555555\n",
      "F1 score: 0.817461822011585\n",
      "Accuracy: 0.8755555555555555\n",
      "              precision    recall  f1-score   support\n",
      "\n",
      "           0       0.88      1.00      0.93       394\n",
      "           1       0.00      0.00      0.00        56\n",
      "\n",
      "    accuracy                           0.88       450\n",
      "   macro avg       0.44      0.50      0.47       450\n",
      "weighted avg       0.77      0.88      0.82       450\n",
      "\n"
     ]
    },
    {
     "name": "stderr",
     "output_type": "stream",
     "text": [
      "/usr/local/lib/python3.7/dist-packages/sklearn/metrics/_classification.py:1318: UndefinedMetricWarning: Precision is ill-defined and being set to 0.0 in labels with no predicted samples. Use `zero_division` parameter to control this behavior.\n",
      "  _warn_prf(average, modifier, msg_start, len(result))\n",
      "/usr/local/lib/python3.7/dist-packages/sklearn/metrics/_classification.py:1318: UndefinedMetricWarning: Precision and F-score are ill-defined and being set to 0.0 in labels with no predicted samples. Use `zero_division` parameter to control this behavior.\n",
      "  _warn_prf(average, modifier, msg_start, len(result))\n",
      "/usr/local/lib/python3.7/dist-packages/sklearn/metrics/_classification.py:1318: UndefinedMetricWarning: Precision and F-score are ill-defined and being set to 0.0 in labels with no predicted samples. Use `zero_division` parameter to control this behavior.\n",
      "  _warn_prf(average, modifier, msg_start, len(result))\n",
      "/usr/local/lib/python3.7/dist-packages/sklearn/metrics/_classification.py:1318: UndefinedMetricWarning: Precision and F-score are ill-defined and being set to 0.0 in labels with no predicted samples. Use `zero_division` parameter to control this behavior.\n",
      "  _warn_prf(average, modifier, msg_start, len(result))\n"
     ]
    }
   ],
   "source": [
    "precision_score = metrics.precision_score(y_true, pred, average= \"weighted\")\n",
    "print(\"Precision score: {}\".format(precision_score))\n",
    "\n",
    "recall_score = metrics.recall_score(y_true, pred, average= \"weighted\")\n",
    "print(\"Recall score: {}\".format(recall_score))\n",
    "\n",
    "f1_score = metrics.f1_score(y_true, pred, average= \"weighted\")\n",
    "print(\"F1 score: {}\".format(f1_score))\n",
    "\n",
    "accuracy = metrics.accuracy_score(y_true, pred)\n",
    "print('Accuracy: {}'.format(accuracy))\n",
    "\n",
    "print(metrics.classification_report(y_true, pred))"
   ]
  },
  {
   "cell_type": "code",
   "execution_count": null,
   "metadata": {
    "colab": {
     "base_uri": "https://localhost:8080/",
     "height": 311
    },
    "id": "t5nsBE_2JZBp",
    "outputId": "e00315c9-3ff3-49f2-ffed-4fcef8549874"
   },
   "outputs": [
    {
     "data": {
      "image/png": "[encoded data removed]",
      "text/plain": [
       "<Figure size 432x288 with 2 Axes>"
      ]
     },
     "metadata": {
      "needs_background": "light"
     },
     "output_type": "display_data"
    }
   ],
   "source": [
    "# Compute confusion matrix\n",
    "cm = confusion_matrix(y_true, pred)\n",
    "title_sentiments = ['Negative', 'Positive']\n",
    "\n",
    "plt.figure()\n",
    "plot_confusion_matrix(cm, title_sentiments)\n",
    "plt.show()"
   ]
  },
  {
   "cell_type": "markdown",
   "metadata": {
    "id": "aErYi1VFNZlc"
   },
   "source": [
    "# Fully Connected Neural Network"
   ]
  },
  {
   "cell_type": "code",
   "execution_count": null,
   "metadata": {
    "id": "Uo18ukkWCXzq"
   },
   "outputs": [],
   "source": [
    "\n",
    "x_train, x_test, y_train, y_test = train_test_split(x, y, test_size=0.25, random_state=42)"
   ]
  },
  {
   "cell_type": "code",
   "execution_count": null,
   "metadata": {
    "colab": {
     "base_uri": "https://localhost:8080/"
    },
    "id": "7p1ZicuwCTfm",
    "outputId": "8356e6b6-fca6-415e-c16d-8c6347b37ce4"
   },
   "outputs": [
    {
     "name": "stdout",
     "output_type": "stream",
     "text": [
      "(1798, 2777)\n",
      "(1798, 2)\n"
     ]
    }
   ],
   "source": [
    "print(x.shape)\n",
    "print(y.shape)"
   ]
  },
  {
   "cell_type": "code",
   "execution_count": null,
   "metadata": {
    "colab": {
     "base_uri": "https://localhost:8080/"
    },
    "id": "a372k5reumw3",
    "outputId": "a4be5425-5d24-4c81-da2f-b407f74f7925"
   },
   "outputs": [
    {
     "name": "stdout",
     "output_type": "stream",
     "text": [
      "(1798, 2777)\n",
      "(1798, 2)\n"
     ]
    }
   ],
   "source": [
    "print(x.shape)\n",
    "\n",
    "# this is our problem! y needs to be 2D \n",
    "# why is y not 2D? used same method for binary classification in project 3 \n",
    "# maybe try different encode function for y? \n",
    "print(y.shape)"
   ]
  },
  {
   "cell_type": "code",
   "execution_count": null,
   "metadata": {
    "colab": {
     "base_uri": "https://localhost:8080/"
    },
    "id": "lX4aedlONh__",
    "outputId": "1cb867a5-6101-4e11-9039-c2e93081b010"
   },
   "outputs": [
    {
     "name": "stdout",
     "output_type": "stream",
     "text": [
      "Epoch 1/1000\n",
      "43/43 - 1s - loss: nan - val_loss: nan - 783ms/epoch - 18ms/step\n",
      "Epoch 2/1000\n",
      "43/43 - 0s - loss: nan - val_loss: nan - 181ms/epoch - 4ms/step\n",
      "Epoch 2: early stopping\n"
     ]
    },
    {
     "data": {
      "text/plain": [
       "<keras.callbacks.History at 0x7f4263ef1710>"
      ]
     },
     "execution_count": 36,
     "metadata": {},
     "output_type": "execute_result"
    }
   ],
   "source": [
    "#The SentimentIntensityAnalyzer should spit out \"good\" or \"bad\" \n",
    "#These two values will be hot encoded into 1 or 0.\n",
    "#The Y column from Sentiment will be used to compare to\n",
    "#A CNN and a Connected Neural Network \n",
    "\n",
    "model = Sequential()\n",
    "model.add(Dense(100, input_dim=x.shape[1], activation='relu'))\n",
    "model.add(Dense(50, activation='relu'))\n",
    "model.add(Dense(25, activation='relu')) \n",
    "model.add(Dense(2, activation='softmax'))\n",
    "\n",
    "model.compile(loss='categorical_crossentropy', optimizer='adam')\n",
    "\n",
    "monitor = EarlyStopping(monitor='val_loss', min_delta=1e-3, patience=2, verbose=2, mode='auto')\n",
    "\n",
    "model.fit(x_train,y_train,validation_data=(x_test,y_test),callbacks=[monitor],verbose=2,epochs=1000)"
   ]
  },
  {
   "cell_type": "code",
   "execution_count": null,
   "metadata": {
    "id": "KjyoB3Afs-_W"
   },
   "outputs": [],
   "source": [
    "y_true = np.argmax(y_test, axis=1)\n",
    "pred=model.predict(x_test)\n",
    "pred = np.argmax(pred, axis=1)\n",
    "\n",
    "# y_true = y_true.reshape(-1,1)"
   ]
  },
  {
   "cell_type": "code",
   "execution_count": null,
   "metadata": {
    "id": "sbWOdA7PR4em"
   },
   "outputs": [],
   "source": [
    ""
   ]
  },
  {
   "cell_type": "code",
   "execution_count": null,
   "metadata": {
    "id": "Okt0uCWaUQTR"
   },
   "outputs": [],
   "source": [
    ""
   ]
  },
  {
   "cell_type": "code",
   "execution_count": null,
   "metadata": {
    "colab": {
     "base_uri": "https://localhost:8080/"
    },
    "id": "FIOYVsMDtB6L",
    "outputId": "e97bed37-4103-4143-b048-b781f8207787"
   },
   "outputs": [
    {
     "name": "stdout",
     "output_type": "stream",
     "text": [
      "Precision score: 0.7665975308641976\n",
      "Recall score: 0.8755555555555555\n",
      "F1 score: 0.817461822011585\n",
      "Accuracy: 0.8755555555555555\n",
      "              precision    recall  f1-score   support\n",
      "\n",
      "           0       0.88      1.00      0.93       394\n",
      "           1       0.00      0.00      0.00        56\n",
      "\n",
      "    accuracy                           0.88       450\n",
      "   macro avg       0.44      0.50      0.47       450\n",
      "weighted avg       0.77      0.88      0.82       450\n",
      "\n"
     ]
    },
    {
     "name": "stderr",
     "output_type": "stream",
     "text": [
      "/usr/local/lib/python3.7/dist-packages/sklearn/metrics/_classification.py:1318: UndefinedMetricWarning: Precision is ill-defined and being set to 0.0 in labels with no predicted samples. Use `zero_division` parameter to control this behavior.\n",
      "  _warn_prf(average, modifier, msg_start, len(result))\n",
      "/usr/local/lib/python3.7/dist-packages/sklearn/metrics/_classification.py:1318: UndefinedMetricWarning: Precision and F-score are ill-defined and being set to 0.0 in labels with no predicted samples. Use `zero_division` parameter to control this behavior.\n",
      "  _warn_prf(average, modifier, msg_start, len(result))\n",
      "/usr/local/lib/python3.7/dist-packages/sklearn/metrics/_classification.py:1318: UndefinedMetricWarning: Precision and F-score are ill-defined and being set to 0.0 in labels with no predicted samples. Use `zero_division` parameter to control this behavior.\n",
      "  _warn_prf(average, modifier, msg_start, len(result))\n",
      "/usr/local/lib/python3.7/dist-packages/sklearn/metrics/_classification.py:1318: UndefinedMetricWarning: Precision and F-score are ill-defined and being set to 0.0 in labels with no predicted samples. Use `zero_division` parameter to control this behavior.\n",
      "  _warn_prf(average, modifier, msg_start, len(result))\n"
     ]
    }
   ],
   "source": [
    "precision_score = metrics.precision_score(y_true, pred, average= \"weighted\")\n",
    "print(\"Precision score: {}\".format(precision_score))\n",
    "\n",
    "recall_score = metrics.recall_score(y_true, pred, average= \"weighted\")\n",
    "print(\"Recall score: {}\".format(recall_score))\n",
    "\n",
    "f1_score = metrics.f1_score(y_true, pred, average= \"weighted\")\n",
    "print(\"F1 score: {}\".format(f1_score))\n",
    "\n",
    "accuracy = metrics.accuracy_score(y_true, pred)\n",
    "print('Accuracy: {}'.format(accuracy))\n",
    "\n",
    "print(metrics.classification_report(y_true, pred))"
   ]
  },
  {
   "cell_type": "code",
   "execution_count": null,
   "metadata": {
    "colab": {
     "base_uri": "https://localhost:8080/",
     "height": 380
    },
    "id": "mm43t4awA4aV",
    "outputId": "63cc5dd0-b8cd-480e-90c8-a9fedc5d3b3c"
   },
   "outputs": [
    {
     "ename": "ValueError",
     "evalue": "ignored",
     "output_type": "error",
     "traceback": [
      "\u001b[0;31m---------------------------------------------------------------------------\u001b[0m",
      "\u001b[0;31mValueError\u001b[0m                                Traceback (most recent call last)",
      "\u001b[0;32m<ipython-input-39-5001c967653e>\u001b[0m in \u001b[0;36m<module>\u001b[0;34m()\u001b[0m\n\u001b[1;32m      1\u001b[0m \u001b[0;31m# Print out feature names and their values\u001b[0m\u001b[0;34m\u001b[0m\u001b[0;34m\u001b[0m\u001b[0;34m\u001b[0m\u001b[0m\n\u001b[1;32m      2\u001b[0m \u001b[0;34m\u001b[0m\u001b[0m\n\u001b[0;32m----> 3\u001b[0;31m \u001b[0mdf_y\u001b[0m \u001b[0;34m=\u001b[0m \u001b[0mpd\u001b[0m\u001b[0;34m.\u001b[0m\u001b[0mDataFrame\u001b[0m\u001b[0;34m(\u001b[0m\u001b[0my_test\u001b[0m\u001b[0;34m,\u001b[0m \u001b[0mcolumns\u001b[0m\u001b[0;34m=\u001b[0m\u001b[0;34m[\u001b[0m\u001b[0;34m'Actual Sentiment'\u001b[0m\u001b[0;34m]\u001b[0m\u001b[0;34m)\u001b[0m\u001b[0;34m\u001b[0m\u001b[0;34m\u001b[0m\u001b[0m\n\u001b[0m\u001b[1;32m      4\u001b[0m \u001b[0mdf_pred\u001b[0m \u001b[0;34m=\u001b[0m \u001b[0mpd\u001b[0m\u001b[0;34m.\u001b[0m\u001b[0mDataFrame\u001b[0m\u001b[0;34m(\u001b[0m\u001b[0mpred\u001b[0m\u001b[0;34m,\u001b[0m \u001b[0mcolumns\u001b[0m\u001b[0;34m=\u001b[0m\u001b[0;34m[\u001b[0m\u001b[0;34m'Predicted Sentiment'\u001b[0m\u001b[0;34m]\u001b[0m\u001b[0;34m)\u001b[0m\u001b[0;34m\u001b[0m\u001b[0;34m\u001b[0m\u001b[0m\n\u001b[1;32m      5\u001b[0m \u001b[0mresult\u001b[0m \u001b[0;34m=\u001b[0m \u001b[0mpd\u001b[0m\u001b[0;34m.\u001b[0m\u001b[0mconcat\u001b[0m\u001b[0;34m(\u001b[0m\u001b[0;34m[\u001b[0m\u001b[0mdf_y\u001b[0m\u001b[0;34m,\u001b[0m \u001b[0mdf_pred\u001b[0m\u001b[0;34m]\u001b[0m\u001b[0;34m,\u001b[0m\u001b[0maxis\u001b[0m\u001b[0;34m=\u001b[0m\u001b[0;36m1\u001b[0m\u001b[0;34m)\u001b[0m\u001b[0;34m\u001b[0m\u001b[0;34m\u001b[0m\u001b[0m\n",
      "\u001b[0;32m/usr/local/lib/python3.7/dist-packages/pandas/core/frame.py\u001b[0m in \u001b[0;36m__init__\u001b[0;34m(self, data, index, columns, dtype, copy)\u001b[0m\n\u001b[1;32m    676\u001b[0m                     \u001b[0mdtype\u001b[0m\u001b[0;34m=\u001b[0m\u001b[0mdtype\u001b[0m\u001b[0;34m,\u001b[0m\u001b[0;34m\u001b[0m\u001b[0;34m\u001b[0m\u001b[0m\n\u001b[1;32m    677\u001b[0m                     \u001b[0mcopy\u001b[0m\u001b[0;34m=\u001b[0m\u001b[0mcopy\u001b[0m\u001b[0;34m,\u001b[0m\u001b[0;34m\u001b[0m\u001b[0;34m\u001b[0m\u001b[0m\n\u001b[0;32m--> 678\u001b[0;31m                     \u001b[0mtyp\u001b[0m\u001b[0;34m=\u001b[0m\u001b[0mmanager\u001b[0m\u001b[0;34m,\u001b[0m\u001b[0;34m\u001b[0m\u001b[0;34m\u001b[0m\u001b[0m\n\u001b[0m\u001b[1;32m    679\u001b[0m                 )\n\u001b[1;32m    680\u001b[0m \u001b[0;34m\u001b[0m\u001b[0m\n",
      "\u001b[0;32m/usr/local/lib/python3.7/dist-packages/pandas/core/internals/construction.py\u001b[0m in \u001b[0;36mndarray_to_mgr\u001b[0;34m(values, index, columns, dtype, copy, typ)\u001b[0m\n\u001b[1;32m    322\u001b[0m     )\n\u001b[1;32m    323\u001b[0m \u001b[0;34m\u001b[0m\u001b[0m\n\u001b[0;32m--> 324\u001b[0;31m     \u001b[0m_check_values_indices_shape_match\u001b[0m\u001b[0;34m(\u001b[0m\u001b[0mvalues\u001b[0m\u001b[0;34m,\u001b[0m \u001b[0mindex\u001b[0m\u001b[0;34m,\u001b[0m \u001b[0mcolumns\u001b[0m\u001b[0;34m)\u001b[0m\u001b[0;34m\u001b[0m\u001b[0;34m\u001b[0m\u001b[0m\n\u001b[0m\u001b[1;32m    325\u001b[0m \u001b[0;34m\u001b[0m\u001b[0m\n\u001b[1;32m    326\u001b[0m     \u001b[0;32mif\u001b[0m \u001b[0mtyp\u001b[0m \u001b[0;34m==\u001b[0m \u001b[0;34m\"array\"\u001b[0m\u001b[0;34m:\u001b[0m\u001b[0;34m\u001b[0m\u001b[0;34m\u001b[0m\u001b[0m\n",
      "\u001b[0;32m/usr/local/lib/python3.7/dist-packages/pandas/core/internals/construction.py\u001b[0m in \u001b[0;36m_check_values_indices_shape_match\u001b[0;34m(values, index, columns)\u001b[0m\n\u001b[1;32m    391\u001b[0m         \u001b[0mpassed\u001b[0m \u001b[0;34m=\u001b[0m \u001b[0mvalues\u001b[0m\u001b[0;34m.\u001b[0m\u001b[0mshape\u001b[0m\u001b[0;34m\u001b[0m\u001b[0;34m\u001b[0m\u001b[0m\n\u001b[1;32m    392\u001b[0m         \u001b[0mimplied\u001b[0m \u001b[0;34m=\u001b[0m \u001b[0;34m(\u001b[0m\u001b[0mlen\u001b[0m\u001b[0;34m(\u001b[0m\u001b[0mindex\u001b[0m\u001b[0;34m)\u001b[0m\u001b[0;34m,\u001b[0m \u001b[0mlen\u001b[0m\u001b[0;34m(\u001b[0m\u001b[0mcolumns\u001b[0m\u001b[0;34m)\u001b[0m\u001b[0;34m)\u001b[0m\u001b[0;34m\u001b[0m\u001b[0;34m\u001b[0m\u001b[0m\n\u001b[0;32m--> 393\u001b[0;31m         \u001b[0;32mraise\u001b[0m \u001b[0mValueError\u001b[0m\u001b[0;34m(\u001b[0m\u001b[0;34mf\"Shape of passed values is {passed}, indices imply {implied}\"\u001b[0m\u001b[0;34m)\u001b[0m\u001b[0;34m\u001b[0m\u001b[0;34m\u001b[0m\u001b[0m\n\u001b[0m\u001b[1;32m    394\u001b[0m \u001b[0;34m\u001b[0m\u001b[0m\n\u001b[1;32m    395\u001b[0m \u001b[0;34m\u001b[0m\u001b[0m\n",
      "\u001b[0;31mValueError\u001b[0m: Shape of passed values is (450, 2), indices imply (450, 1)"
     ]
    }
   ],
   "source": [
    "# Print out feature names and their values \n",
    "\n",
    "df_y = pd.DataFrame(y_test, columns=['Actual Sentiment'])\n",
    "df_pred = pd.DataFrame(pred, columns=['Predicted Sentiment'])\n",
    "result = pd.concat([df_y, df_pred],axis=1)\n",
    "result"
   ]
  },
  {
   "cell_type": "code",
   "execution_count": null,
   "metadata": {
    "id": "iuR_NuALtF9E"
   },
   "outputs": [],
   "source": [
    "# Compute confusion matrix\n",
    "cm = confusion_matrix(y_true, pred)\n",
    "title_sentiments = ['Negative', 'Positive']\n",
    "\n",
    "plt.figure()\n",
    "plot_confusion_matrix(cm, title_sentiments)\n",
    "plt.show()"
   ]
  }
 ],
 "metadata": {
  "accelerator": "GPU",
  "colab": {
   "collapsed_sections": [],
   "name": "Copy of Final Project",
   "provenance": []
  },
  "kernelspec": {
   "display_name": "Python 3",
   "name": "python3"
  },
  "language_info": {
   "name": "python"
  }
 },
 "nbformat": 4,
 "nbformat_minor": 0
}
